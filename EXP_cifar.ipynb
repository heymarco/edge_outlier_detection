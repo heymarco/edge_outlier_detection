{
 "cells": [
  {
   "cell_type": "code",
   "execution_count": 44,
   "metadata": {
    "collapsed": true
   },
   "outputs": [
    {
     "name": "stderr",
     "output_type": "stream",
     "text": [
      "WARNING:root:Torch was already hooked... skipping hooking process\n"
     ]
    }
   ],
   "source": [
    "# import packages\n",
    "import copy\n",
    "import os\n",
    "import torch\n",
    "import torchvision\n",
    "import torch.nn as nn\n",
    "import torchvision.transforms as transforms\n",
    "import torch.optim as optim\n",
    "import matplotlib.pyplot as plt\n",
    "import torch.nn.functional as F\n",
    "\n",
    "from torchvision import datasets\n",
    "from torch.utils.data import DataLoader, TensorDataset\n",
    "from torchvision.utils import save_image\n",
    "\n",
    "import torch\n",
    "import torch.optim as optim\n",
    "import torch.nn as nn\n",
    "from syft.federated.floptimizer import Optims\n",
    "\n",
    "import syft as sy\n",
    "from syft.frameworks.torch.fl import utils\n",
    "hook = sy.TorchHook(torch)\n",
    "\n",
    "import os\n",
    "os.environ['KMP_DUPLICATE_LIB_OK'] = 'True'"
   ]
  },
  {
   "cell_type": "code",
   "execution_count": 45,
   "outputs": [],
   "source": [
    "NUM_CLIENTS = 2\n",
    "BATCH_SIZE = 32\n",
    "LEARNING_RATE = 1e-3"
   ],
   "metadata": {
    "collapsed": false,
    "pycharm": {
     "name": "#%%\n"
    }
   }
  },
  {
   "cell_type": "code",
   "execution_count": 46,
   "outputs": [],
   "source": [
    "# utility functions\n",
    "def get_device():\n",
    "    if torch.cuda.is_available():\n",
    "        device = 'cuda:0'\n",
    "    else:\n",
    "        device = 'cpu'\n",
    "    return device\n",
    "\n",
    "def make_dir():\n",
    "    image_dir = 'FashionMNIST_Images'\n",
    "    if not os.path.exists(image_dir):\n",
    "        os.makedirs(image_dir)\n",
    "\n",
    "def save_decoded_image(img, epoch):\n",
    "    img = img.view(img.size(0), 1, 28, 28)\n",
    "    save_image(img, './FashionMNIST_Images/linear_ae_image{}.png'.format(epoch))\n",
    "\n",
    "def get_averaged_weights(model_dict):\n",
    "    with torch.no_grad():\n",
    "        models = [model_dict[key].get() for key in model_dict]\n",
    "        result_state_dict = models[0].state_dict()\n",
    "        layer_keys = result_state_dict.keys()\n",
    "        for key in layer_keys:\n",
    "            all_weights = [model.state_dict()[key] for model in models]\n",
    "            result_state_dict[key] = torch.mean(torch.stack(all_weights), dim=0)\n",
    "        return result_state_dict"
   ],
   "metadata": {
    "collapsed": false,
    "pycharm": {
     "name": "#%%\n"
    }
   }
  },
  {
   "cell_type": "code",
   "execution_count": 47,
   "outputs": [],
   "source": [
    "class OneLayerAutoencoder(nn.Module):\n",
    "    def __init__(self):\n",
    "        super(OneLayerAutoencoder, self).__init__()\n",
    "        self.enc = nn.Linear(in_features=784, out_features=128)\n",
    "        self.dec = nn.Linear(in_features=128, out_features=784)\n",
    "\n",
    "    def forward(self, x):\n",
    "        x = F.relu(self.enc(x))\n",
    "        x = F.relu(self.dec(x))\n",
    "        return x\n",
    "\n",
    "\n",
    "class Autoencoder(nn.Module):\n",
    "    def __init__(self):\n",
    "        super(Autoencoder, self).__init__()\n",
    "        # encoder\n",
    "        self.enc1 = nn.Linear(in_features=784, out_features=256)\n",
    "        self.enc2 = nn.Linear(in_features=256, out_features=128)\n",
    "        self.enc3 = nn.Linear(in_features=128, out_features=64)\n",
    "        self.enc4 = nn.Linear(in_features=64, out_features=32)\n",
    "        self.enc5 = nn.Linear(in_features=32, out_features=16)\n",
    "        # decoder\n",
    "        self.dec1 = nn.Linear(in_features=16, out_features=32)\n",
    "        self.dec2 = nn.Linear(in_features=32, out_features=64)\n",
    "        self.dec3 = nn.Linear(in_features=64, out_features=128)\n",
    "        self.dec4 = nn.Linear(in_features=128, out_features=256)\n",
    "        self.dec5 = nn.Linear(in_features=256, out_features=784)\n",
    "    def forward(self, x):\n",
    "        x = F.relu(self.enc1(x))\n",
    "        x = F.relu(self.enc2(x))\n",
    "        x = F.relu(self.enc3(x))\n",
    "        x = F.relu(self.enc4(x))\n",
    "        x = F.relu(self.enc5(x))\n",
    "        x = F.relu(self.dec1(x))\n",
    "        x = F.relu(self.dec2(x))\n",
    "        x = F.relu(self.dec3(x))\n",
    "        x = F.relu(self.dec4(x))\n",
    "        x = F.relu(self.dec5(x))\n",
    "        return x\n",
    "\n",
    "ae = OneLayerAutoencoder()"
   ],
   "metadata": {
    "collapsed": false,
    "pycharm": {
     "name": "#%%\n"
    }
   }
  },
  {
   "cell_type": "code",
   "execution_count": 48,
   "outputs": [],
   "source": [
    "def train(model, data, optimizer, criterion):\n",
    "    # get the inputs; data is a list of [inputs, labels]\n",
    "    model.train()\n",
    "    inputs, labels = data\n",
    "\n",
    "    # zero the parameter gradients\n",
    "    optimizer.zero_grad()\n",
    "\n",
    "    # forward + backward + optimize\n",
    "    outputs = model(inputs)\n",
    "    loss = criterion(outputs, labels)\n",
    "    loss.backward()\n",
    "    optimizer.step()\n",
    "\n",
    "    return loss\n",
    "\n",
    "\n",
    "def send_model_to_workers(model, workers):\n",
    "    return {worker: model.copy().send(worker) for worker in workers}\n"
   ],
   "metadata": {
    "collapsed": false,
    "pycharm": {
     "name": "#%%\n"
    }
   }
  },
  {
   "cell_type": "code",
   "execution_count": 49,
   "outputs": [],
   "source": [
    "workers = [sy.VirtualWorker(hook, id=\"Worker {}\".format(i)) for i in range(NUM_CLIENTS)]\n",
    "\n",
    "federated_data_loader = sy.FederatedDataLoader( # <-- this is now a FederatedDataLoader\n",
    "    datasets.MNIST('../data', train=True, download=True,\n",
    "                   transform=transforms.Compose([\n",
    "                       transforms.ToTensor(),\n",
    "                       transforms.Normalize((0.1307,), (0.3081,))\n",
    "                   ])).federate(workers),\n",
    "    batch_size=BATCH_SIZE, shuffle=True, iter_per_worker=True)"
   ],
   "metadata": {
    "collapsed": false,
    "pycharm": {
     "name": "#%%\n"
    }
   }
  },
  {
   "cell_type": "code",
   "execution_count": 50,
   "outputs": [],
   "source": [
    "opt = optim.Adam(ae.parameters(), lr=LEARNING_RATE)\n",
    "pointers_to_nets = send_model_to_workers(ae, workers)\n",
    "optims = Optims([w.id for w in workers], opt)\n",
    "criterion = nn.MSELoss()"
   ],
   "metadata": {
    "collapsed": false,
    "pycharm": {
     "name": "#%%\n"
    }
   }
  },
  {
   "cell_type": "code",
   "execution_count": 51,
   "outputs": [
    {
     "name": "stdout",
     "output_type": "stream",
     "text": [
      "COMMUNICATION ROUND 0\n",
      "LOCAL EPOCH 0\n",
      "0.010120857656002045\n",
      "COMMUNICATION ROUND 1\n",
      "LOCAL EPOCH 0\n",
      "0.009983119666576385\n",
      "COMMUNICATION ROUND 2\n",
      "LOCAL EPOCH 0\n",
      "0.010360904932022096\n",
      "COMMUNICATION ROUND 3\n",
      "LOCAL EPOCH 0\n",
      "0.010431747436523437\n",
      "COMMUNICATION ROUND 4\n",
      "LOCAL EPOCH 0\n",
      "0.01037764310836792\n",
      "COMMUNICATION ROUND 5\n",
      "LOCAL EPOCH 0\n",
      "0.010259181261062622\n",
      "COMMUNICATION ROUND 6\n",
      "LOCAL EPOCH 0\n",
      "0.010508235692977905\n",
      "COMMUNICATION ROUND 7\n",
      "LOCAL EPOCH 0\n",
      "0.009950703978538512\n",
      "COMMUNICATION ROUND 8\n",
      "LOCAL EPOCH 0\n",
      "0.010028605461120605\n",
      "COMMUNICATION ROUND 9\n",
      "LOCAL EPOCH 0\n",
      "0.009807091057300567\n"
     ]
    }
   ],
   "source": [
    "\n",
    "COMMUNICATION_ROUNDS = 10\n",
    "LOCAL_EPOCHS = 1\n",
    "\n",
    "losses = []\n",
    "\n",
    "for communication_round in range(COMMUNICATION_ROUNDS):\n",
    "    print(\"COMMUNICATION ROUND {}\".format(communication_round))\n",
    "    for local_epoch in range(LOCAL_EPOCHS):\n",
    "        print(\"LOCAL EPOCH {}\".format(local_epoch))\n",
    "        for batch_idx, worker_dict in enumerate(federated_data_loader):\n",
    "            if batch_idx > 50:\n",
    "                break\n",
    "            running_loss = 0.0\n",
    "            for worker in worker_dict:\n",
    "                remote_data, target = worker_dict[worker]\n",
    "                remote_data = remote_data.view(remote_data.shape[0], remote_data.shape[1]*remote_data.shape[2]*remote_data.shape[3])\n",
    "                remote_net = pointers_to_nets[worker]\n",
    "                optimizer = optims.get_optim(worker=remote_data.location.id)\n",
    "                batch_loss = train(remote_net, (remote_data, remote_data), optimizer, criterion)\n",
    "                running_loss += batch_loss.get().item()\n",
    "            if batch_idx % 100 == 1:\n",
    "                print(running_loss / (100 * len(workers)))\n",
    "                losses.append(running_loss / (100 * len(workers)))\n",
    "    new_state_dict = get_averaged_weights(pointers_to_nets)\n",
    "    ae.load_state_dict(new_state_dict)\n",
    "    pointers_to_nets = send_model_to_workers(ae, workers)"
   ],
   "metadata": {
    "collapsed": false,
    "pycharm": {
     "name": "#%%\n"
    }
   }
  },
  {
   "cell_type": "code",
   "execution_count": 52,
   "outputs": [
    {
     "data": {
      "text/plain": "<Figure size 432x288 with 1 Axes>",
      "image/png": "[encoded data removed]"
     },
     "metadata": {
      "needs_background": "light"
     },
     "output_type": "display_data"
    }
   ],
   "source": [
    "losses\n",
    "plt.plot(range(len(losses)), losses)\n",
    "plt.show()"
   ],
   "metadata": {
    "collapsed": false,
    "pycharm": {
     "name": "#%%\n"
    }
   }
  },
  {
   "cell_type": "code",
   "execution_count": 52,
   "outputs": [],
   "source": [],
   "metadata": {
    "collapsed": false,
    "pycharm": {
     "name": "#%%\n"
    }
   }
  }
 ],
 "metadata": {
  "kernelspec": {
   "name": "pycharm-556432f0",
   "language": "python",
   "display_name": "PyCharm (outliers)"
  },
  "language_info": {
   "codemirror_mode": {
    "name": "ipython",
    "version": 2
   },
   "file_extension": ".py",
   "mimetype": "text/x-python",
   "name": "python",
   "nbconvert_exporter": "python",
   "pygments_lexer": "ipython2",
   "version": "2.7.6"
  }
 },
 "nbformat": 4,
 "nbformat_minor": 0
}