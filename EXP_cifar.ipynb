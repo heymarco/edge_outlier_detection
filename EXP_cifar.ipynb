{
 "cells": [
  {
   "cell_type": "markdown",
   "metadata": {},
   "source": [
    "# A Meta-Framework for Outlier Detection in Distributed Data\n",
    "\n",
    "## FashionMNIST-Experiment"
   ]
  },
  {
   "cell_type": "code",
   "execution_count": 1,
   "metadata": {},
   "outputs": [],
   "source": [
    "# import packages\n",
    "import copy\n",
    "import os\n",
    "import torch\n",
    "import torchvision\n",
    "import torch.nn as nn\n",
    "import torchvision.transforms as transforms\n",
    "import torch.optim as optim\n",
    "import matplotlib.pyplot as plt\n",
    "import seaborn as sns\n",
    "import torch.nn.functional as F\n",
    "\n",
    "from torchvision import datasets\n",
    "from torch.utils.data import DataLoader, TensorDataset\n",
    "from torchvision.utils import save_image\n",
    "\n",
    "import numpy as np\n",
    "import pandas as pd\n",
    "\n",
    "from syft.federated.floptimizer import Optims\n",
    "\n",
    "import syft as sy\n",
    "from syft.frameworks.torch.fl import utils\n",
    "hook = sy.TorchHook(torch)\n",
    "\n",
    "import os\n",
    "os.environ['KMP_DUPLICATE_LIB_OK'] = 'True'"
   ]
  },
  {
   "cell_type": "markdown",
   "metadata": {},
   "source": [
    "### Define network size, batch size and learning rate"
   ]
  },
  {
   "cell_type": "code",
   "execution_count": 2,
   "metadata": {
    "pycharm": {
     "name": "#%%\n"
    }
   },
   "outputs": [],
   "source": [
    "NUM_CLIENTS = 10\n",
    "BATCH_SIZE = 64\n",
    "LEARNING_RATE = 1e-3"
   ]
  },
  {
   "cell_type": "markdown",
   "metadata": {},
   "source": [
    "Some utility functions"
   ]
  },
  {
   "cell_type": "code",
   "execution_count": 12,
   "metadata": {
    "pycharm": {
     "name": "#%%\n"
    }
   },
   "outputs": [
    {
     "name": "stdout",
     "output_type": "stream",
     "text": [
      "Device is cuda:1\n"
     ]
    }
   ],
   "source": [
    "# utility functions\n",
    "def get_device():\n",
    "    if torch.cuda.is_available():\n",
    "        device = 'cuda:1'\n",
    "    else:\n",
    "        device = 'cpu'\n",
    "    return device\n",
    "\n",
    "\n",
    "def make_dir():\n",
    "    image_dir = 'FashionMNIST_Images'\n",
    "    if not os.path.exists(image_dir):\n",
    "        os.makedirs(image_dir)\n",
    "        \n",
    "\n",
    "def save_model(model, name):\n",
    "    model_dir = 'FashionMNIST_MODELS'\n",
    "    if not os.path.exists(model_dir):\n",
    "        os.makedirs(model_dir)\n",
    "    torch.save(model.state_dict(), os.path.join(model_dir, name + \".pth\"))\n",
    "    \n",
    "\n",
    "def load_model(name):\n",
    "    model_path = os.path.join(\"FashionMNIST_MODELS\", name + \".pth\")\n",
    "    state_dict = torch.load(model_path)\n",
    "    if name.startswith(\"one_layer_ae\"):\n",
    "        model = OneLayerAutoencoder()\n",
    "    if name.startswith(\"multi_layer_ae\"):\n",
    "        model = MultiLayerAutoencoder()\n",
    "    if name.startswith(\"conv_ae\"):\n",
    "        model = ConvolutionalAutoencoder()\n",
    "    model.load_state_dict(state_dict)\n",
    "    return model\n",
    "\n",
    "        \n",
    "def save_decoded_image(img, comm, epoch, batch):\n",
    "    img = img.view(img.size(0), 1, 28, 28)\n",
    "    save_image(img, './FashionMNIST_Images/linear_ae_image_{}_{}_{}.png'.format(comm, epoch, batch))\n",
    "    \n",
    "    \n",
    "def federate(dataset, num_clients):\n",
    "    rand_indices = torch.randperm(dataset.data.size(0))\n",
    "    splitted_indices = torch.split(rand_indices, int(rand_indices.size(0) / num_clients))\n",
    "    splitted_data = [torch.utils.data.Subset(dataset, share) for share in splitted_indices]\n",
    "    data_loaders = [torch.utils.data.DataLoader(subset, batch_size=BATCH_SIZE, shuffle=True) \n",
    "                   for subset in splitted_data]\n",
    "    return data_loaders\n",
    "\n",
    "\n",
    "def get_averaged_weights(models):\n",
    "    with torch.no_grad():\n",
    "        result_state_dict = models[0].state_dict()\n",
    "        layer_keys = result_state_dict.keys()\n",
    "        for key in layer_keys:\n",
    "            all_weights = [model.state_dict()[key] for model in models]\n",
    "            result_state_dict[key] = torch.mean(torch.stack(all_weights), dim=0)\n",
    "        return result_state_dict\n",
    "\n",
    "\n",
    "print(\"Device is {}\".format(get_device()))\n",
    "\n",
    "\n",
    "def federate(dataset, num_clients):\n",
    "    rand_indices = torch.randperm(dataset.data.size(0))  # create random indices up to 60000\n",
    "    splitted_indices = torch.split(rand_indices, int(rand_indices.size(0) / num_clients))\n",
    "    splitted_data = [torch.utils.data.Subset(dataset.data, share) for share in splitted_indices]\n",
    "    subset_image = splitted_data[0].dataset[splitted_data[0].indices[0]]\n",
    "    plt.imshow(subset_image)\n",
    "    plt.show()\n",
    "    plt.imshow(dataset.data[splitted_data[0].indices[0]])\n",
    "    plt.show()\n",
    "    return splitted_data\n",
    "\n",
    "\n",
    "def train(model, data, optimizer):\n",
    "    recon = model(data)\n",
    "    loss = criterion(recon, data)\n",
    "    loss.backward()\n",
    "    optimizer.step()\n",
    "    optimizer.zero_grad()\n",
    "    return model, float(loss)"
   ]
  },
  {
   "cell_type": "code",
   "execution_count": 4,
   "metadata": {},
   "outputs": [],
   "source": [
    "def federate(dataset, num_clients):\n",
    "    num_examples = dataset.data.size(0)  # 600000\n",
    "    partition_size = int(num_examples / num_clients)  # 6000\n",
    "    examples_per_split = [partition_size for _ in range(num_clients)]\n",
    "    data = dataset.data[:partition_size*num_clients]\n",
    "    splitted_data = torch.utils.data.random_split(data, examples_per_split)\n",
    "    subset_image = splitted_data[0].dataset[splitted_data[0].indices[0]]\n",
    "    plt.imshow(subset_image)\n",
    "    plt.show()\n",
    "    plt.imshow(dataset.data[splitted_data[0].indices[0]])\n",
    "    plt.show()\n",
    "    return splitted_data"
   ]
  },
  {
   "cell_type": "code",
   "execution_count": 13,
   "metadata": {},
   "outputs": [
    {
     "data": {
      "image/png": "[encoded data removed]",
      "text/plain": [
       "<Figure size 432x288 with 1 Axes>"
      ]
     },
     "metadata": {
      "needs_background": "light"
     },
     "output_type": "display_data"
    },
    {
     "data": {
      "image/png": "[encoded data removed]",
      "text/plain": [
       "<Figure size 432x288 with 1 Axes>"
      ]
     },
     "metadata": {
      "needs_background": "light"
     },
     "output_type": "display_data"
    },
    {
     "data": {
      "text/plain": [
       "[<torch.utils.data.dataset.Subset at 0x7ff79bc18850>,\n",
       " <torch.utils.data.dataset.Subset at 0x7ff79bc18b10>,\n",
       " <torch.utils.data.dataset.Subset at 0x7ff79bc18a90>,\n",
       " <torch.utils.data.dataset.Subset at 0x7ff79bc18b90>,\n",
       " <torch.utils.data.dataset.Subset at 0x7ff79bc18910>]"
      ]
     },
     "execution_count": 13,
     "metadata": {},
     "output_type": "execute_result"
    }
   ],
   "source": [
    "federate(mnist_data, 5)"
   ]
  },
  {
   "cell_type": "code",
   "execution_count": null,
   "metadata": {},
   "outputs": [],
   "source": [
    "def federate(dataset, num_clients):\n",
    "    num_examples = dataset.data.size(0)  # 600000\n",
    "    partition_size = int(num_examples / num_clients)  # 6000\n",
    "    examples_per_split = [partition_size for _ in range(num_clients)]\n",
    "    data = dataset.data[:partition_size*num_clients]\n",
    "    splitted_data = torch.utils.data.random_split(data, examples_per_split)\n",
    "    return splitted_data"
   ]
  },
  {
   "cell_type": "markdown",
   "metadata": {},
   "source": [
    "Autoencoder classes"
   ]
  },
  {
   "cell_type": "code",
   "execution_count": 5,
   "metadata": {
    "pycharm": {
     "name": "#%%\n"
    }
   },
   "outputs": [],
   "source": [
    "class OneLayerAutoencoder(nn.Module):\n",
    "    def __init__(self):\n",
    "        super(OneLayerAutoencoder, self).__init__()\n",
    "        self.enc = nn.Linear(in_features=784, out_features=128)\n",
    "        self.dec = nn.Linear(in_features=128, out_features=784)\n",
    "\n",
    "    def forward(self, x):\n",
    "        x = F.relu(self.enc(x))\n",
    "        x = torch.sigmoid(self.dec(x))\n",
    "        return x\n",
    "\n",
    "\n",
    "class MultiLayerAutoencoder(nn.Module):\n",
    "    def __init__(self):\n",
    "        super(Autoencoder, self).__init__()\n",
    "        # encoder\n",
    "        self.enc1 = nn.Linear(in_features=784, out_features=256)\n",
    "        self.enc2 = nn.Linear(in_features=256, out_features=128)\n",
    "        self.enc3 = nn.Linear(in_features=128, out_features=64)\n",
    "        self.enc4 = nn.Linear(in_features=64, out_features=32)\n",
    "        self.enc5 = nn.Linear(in_features=32, out_features=16)\n",
    "        # decoder\n",
    "        self.dec1 = nn.Linear(in_features=16, out_features=32)\n",
    "        self.dec2 = nn.Linear(in_features=32, out_features=64)\n",
    "        self.dec3 = nn.Linear(in_features=64, out_features=128)\n",
    "        self.dec4 = nn.Linear(in_features=128, out_features=256)\n",
    "        self.dec5 = nn.Linear(in_features=256, out_features=784)\n",
    "    def forward(self, x):\n",
    "        x = F.relu(self.enc1(x))\n",
    "        x = F.relu(self.enc2(x))\n",
    "        x = F.relu(self.enc3(x))\n",
    "        x = F.relu(self.enc4(x))\n",
    "        x = F.relu(self.enc5(x))\n",
    "        x = F.relu(self.dec1(x))\n",
    "        x = F.relu(self.dec2(x))\n",
    "        x = F.relu(self.dec3(x))\n",
    "        x = F.relu(self.dec4(x))\n",
    "        x = F.sigmoid(self.dec5(x))\n",
    "        return x\n",
    "\n",
    "\n",
    "class ConvAutoencoder(nn.Module):\n",
    "    def __init__(self):\n",
    "        super(ConvAutoencoder, self).__init__()\n",
    "        self.encoder = nn.Sequential( # like the Composition layer you built\n",
    "            nn.Conv2d(1, 16, 3, stride=2, padding=1),\n",
    "            nn.ReLU(),\n",
    "            nn.Conv2d(16, 32, 3, stride=2, padding=1),\n",
    "            nn.ReLU(),\n",
    "            nn.Conv2d(32, 64, 7)\n",
    "        )\n",
    "        self.decoder = nn.Sequential(\n",
    "            nn.ConvTranspose2d(64, 32, 7),\n",
    "            nn.ReLU(),\n",
    "            nn.ConvTranspose2d(32, 16, 3, stride=2, padding=1, output_padding=1),\n",
    "            nn.ReLU(),\n",
    "            nn.ConvTranspose2d(16, 1, 3, stride=2, padding=1, output_padding=1),\n",
    "            nn.Sigmoid()\n",
    "        )\n",
    "\n",
    "    def forward(self, x):\n",
    "        x = self.encoder(x)\n",
    "        x = self.decoder(x)\n",
    "        return x"
   ]
  },
  {
   "cell_type": "markdown",
   "metadata": {},
   "source": [
    "Functions for adding outliers"
   ]
  },
  {
   "cell_type": "code",
   "execution_count": 63,
   "metadata": {},
   "outputs": [],
   "source": [
    "class OutlierWithProbability(object):\n",
    "    \n",
    "    def __init__(self, probability, transform):\n",
    "        assert isinstance(probability, float)\n",
    "        self.prob = probability\n",
    "        self.transform = transform\n",
    "        \n",
    "    def __call__(self, sample):\n",
    "        is_batch = len(sample.size()) > 2\n",
    "        if is_batch:\n",
    "            old_shape = sample.size()\n",
    "            output = [OutlierWithProbability(self.prob, self.transform)(image) for image in sample]\n",
    "            images = [out[0] for out in output]\n",
    "            labels = [out[1] for out in output]\n",
    "            images = np.array(images)\n",
    "            labels = np.array(labels)\n",
    "            images = np.reshape(images, old_shape)\n",
    "            labels = np.reshape(labels, old_shape)\n",
    "            images = torch.from_numpy(images)\n",
    "            return images, labels\n",
    "        if np.random.uniform() > self.prob:\n",
    "            return sample, np.zeros(sample.size()).astype(int)\n",
    "        return self.transform(sample)\n",
    "\n",
    "\n",
    "class BrightnessShift(object):\n",
    "    \"\"\"Shift brightness of input image.\n",
    "\n",
    "    Args:\n",
    "        shift (tuple or float): Desired output size. If int, fixed shift is applied. \n",
    "        If tuple, random value between (min, max).\n",
    "    \"\"\"\n",
    "\n",
    "    def __init__(self, shift):\n",
    "        assert isinstance(shift, (float, tuple))\n",
    "        if isinstance(shift, float):\n",
    "            self.shift = (shift, shift)\n",
    "        else:\n",
    "            assert len(shift) == 2\n",
    "            self.output_size = shift\n",
    "\n",
    "    def __call__(self, sample):\n",
    "        image = sample\n",
    "        random_shift = np.random.uniform(low=self.shift[0], high=self.shift[1])\n",
    "        image = torch.add(image, random_shift)\n",
    "        image = torch.div(image, torch.max(image))\n",
    "        return image, np.ones(image.shape)\n",
    "    \n",
    "\n",
    "class InvertImage(object):\n",
    "    \"\"\"Invert brightness; white --> black, black --> white.\n",
    "    \"\"\"\n",
    "\n",
    "    def __call__(self, sample):\n",
    "        image = sample\n",
    "        image = torch.mul(image, -1.0)\n",
    "        image = torch.add(image, 1.0)\n",
    "        return image\n",
    "    \n",
    "\n",
    "class RandomOutliers(object):\n",
    "    \"\"\"Add random noise \n",
    "    Args: \n",
    "        percentage (float): Percentage of outlier pixels\n",
    "    \"\"\"\n",
    "    \n",
    "    def __init__(self, percentage, subspace_fraction):\n",
    "        assert isinstance(percentage, float)\n",
    "        assert isinstance(subspace_fraction, float)\n",
    "        self.percentage = percentage\n",
    "        self.subspace_fraction = subspace_fraction\n",
    "    \n",
    "    def __call__(self, sample):\n",
    "        is_batch = len(sample.size()) == 4\n",
    "        if is_batch:\n",
    "            old_shape = sample.size()\n",
    "            output = [RandomOutliers(self.percentage, self.subspace_fraction)(image) for image in sample]\n",
    "            images = [out[0] for out in output]\n",
    "            images = np.array(images)\n",
    "            images = np.reshape(images, old_shape)\n",
    "            images = torch.from_numpy(images)\n",
    "            return images\n",
    "        \n",
    "        if np.random.uniform() > self.percentage:\n",
    "            return sample\n",
    "        outlier_mask = np.random.binomial(n=1, \n",
    "                                          p=self.subspace_fraction, \n",
    "                                          size=sample.size())\n",
    "        noise = np.random.uniform(size=sample.size())\n",
    "        outlier_mask = torch.from_numpy(outlier_mask)\n",
    "        noise = torch.from_numpy(noise)\n",
    "        sample = noise*outlier_mask + (1-outlier_mask)*sample\n",
    "        return sample"
   ]
  },
  {
   "cell_type": "markdown",
   "metadata": {},
   "source": [
    "### Data\n",
    "\n",
    "- add outliers\n",
    "- assign boolean labels to targets of mnist data set"
   ]
  },
  {
   "cell_type": "code",
   "execution_count": 64,
   "metadata": {
    "pycharm": {
     "name": "#%%\n"
    }
   },
   "outputs": [
    {
     "ename": "TypeError",
     "evalue": "Image data of dtype object cannot be converted to float",
     "output_type": "error",
     "traceback": [
      "\u001b[0;31m---------------------------------------------------------------------------\u001b[0m",
      "\u001b[0;31mTypeError\u001b[0m                                 Traceback (most recent call last)",
      "\u001b[0;32m<ipython-input-64-80ecf9ae0aaa>\u001b[0m in \u001b[0;36m<module>\u001b[0;34m\u001b[0m\n\u001b[1;32m     10\u001b[0m                                    transform=base_transform)\n\u001b[1;32m     11\u001b[0m \u001b[0;34m\u001b[0m\u001b[0m\n\u001b[0;32m---> 12\u001b[0;31m \u001b[0mplt\u001b[0m\u001b[0;34m.\u001b[0m\u001b[0mimshow\u001b[0m\u001b[0;34m(\u001b[0m\u001b[0mmnist_data\u001b[0m\u001b[0;34m)\u001b[0m\u001b[0;34m\u001b[0m\u001b[0;34m\u001b[0m\u001b[0m\n\u001b[0m\u001b[1;32m     13\u001b[0m \u001b[0;34m\u001b[0m\u001b[0m\n\u001b[1;32m     14\u001b[0m \u001b[0mplt\u001b[0m\u001b[0;34m.\u001b[0m\u001b[0mshow\u001b[0m\u001b[0;34m(\u001b[0m\u001b[0;34m)\u001b[0m\u001b[0;34m\u001b[0m\u001b[0;34m\u001b[0m\u001b[0m\n",
      "\u001b[0;32m~/miniconda2/envs/tf/lib/python3.7/site-packages/matplotlib/pyplot.py\u001b[0m in \u001b[0;36mimshow\u001b[0;34m(X, cmap, norm, aspect, interpolation, alpha, vmin, vmax, origin, extent, filternorm, filterrad, resample, url, data, **kwargs)\u001b[0m\n\u001b[1;32m   2728\u001b[0m         \u001b[0mfilternorm\u001b[0m\u001b[0;34m=\u001b[0m\u001b[0mfilternorm\u001b[0m\u001b[0;34m,\u001b[0m \u001b[0mfilterrad\u001b[0m\u001b[0;34m=\u001b[0m\u001b[0mfilterrad\u001b[0m\u001b[0;34m,\u001b[0m \u001b[0mresample\u001b[0m\u001b[0;34m=\u001b[0m\u001b[0mresample\u001b[0m\u001b[0;34m,\u001b[0m\u001b[0;34m\u001b[0m\u001b[0;34m\u001b[0m\u001b[0m\n\u001b[1;32m   2729\u001b[0m         \u001b[0murl\u001b[0m\u001b[0;34m=\u001b[0m\u001b[0murl\u001b[0m\u001b[0;34m,\u001b[0m \u001b[0;34m**\u001b[0m\u001b[0;34m(\u001b[0m\u001b[0;34m{\u001b[0m\u001b[0;34m\"data\"\u001b[0m\u001b[0;34m:\u001b[0m \u001b[0mdata\u001b[0m\u001b[0;34m}\u001b[0m \u001b[0;32mif\u001b[0m \u001b[0mdata\u001b[0m \u001b[0;32mis\u001b[0m \u001b[0;32mnot\u001b[0m \u001b[0;32mNone\u001b[0m \u001b[0;32melse\u001b[0m \u001b[0;34m{\u001b[0m\u001b[0;34m}\u001b[0m\u001b[0;34m)\u001b[0m\u001b[0;34m,\u001b[0m\u001b[0;34m\u001b[0m\u001b[0;34m\u001b[0m\u001b[0m\n\u001b[0;32m-> 2730\u001b[0;31m         **kwargs)\n\u001b[0m\u001b[1;32m   2731\u001b[0m     \u001b[0msci\u001b[0m\u001b[0;34m(\u001b[0m\u001b[0m__ret\u001b[0m\u001b[0;34m)\u001b[0m\u001b[0;34m\u001b[0m\u001b[0;34m\u001b[0m\u001b[0m\n\u001b[1;32m   2732\u001b[0m     \u001b[0;32mreturn\u001b[0m \u001b[0m__ret\u001b[0m\u001b[0;34m\u001b[0m\u001b[0;34m\u001b[0m\u001b[0m\n",
      "\u001b[0;32m~/miniconda2/envs/tf/lib/python3.7/site-packages/matplotlib/__init__.py\u001b[0m in \u001b[0;36minner\u001b[0;34m(ax, data, *args, **kwargs)\u001b[0m\n\u001b[1;32m   1436\u001b[0m     \u001b[0;32mdef\u001b[0m \u001b[0minner\u001b[0m\u001b[0;34m(\u001b[0m\u001b[0max\u001b[0m\u001b[0;34m,\u001b[0m \u001b[0;34m*\u001b[0m\u001b[0margs\u001b[0m\u001b[0;34m,\u001b[0m \u001b[0mdata\u001b[0m\u001b[0;34m=\u001b[0m\u001b[0;32mNone\u001b[0m\u001b[0;34m,\u001b[0m \u001b[0;34m**\u001b[0m\u001b[0mkwargs\u001b[0m\u001b[0;34m)\u001b[0m\u001b[0;34m:\u001b[0m\u001b[0;34m\u001b[0m\u001b[0;34m\u001b[0m\u001b[0m\n\u001b[1;32m   1437\u001b[0m         \u001b[0;32mif\u001b[0m \u001b[0mdata\u001b[0m \u001b[0;32mis\u001b[0m \u001b[0;32mNone\u001b[0m\u001b[0;34m:\u001b[0m\u001b[0;34m\u001b[0m\u001b[0;34m\u001b[0m\u001b[0m\n\u001b[0;32m-> 1438\u001b[0;31m             \u001b[0;32mreturn\u001b[0m \u001b[0mfunc\u001b[0m\u001b[0;34m(\u001b[0m\u001b[0max\u001b[0m\u001b[0;34m,\u001b[0m \u001b[0;34m*\u001b[0m\u001b[0mmap\u001b[0m\u001b[0;34m(\u001b[0m\u001b[0msanitize_sequence\u001b[0m\u001b[0;34m,\u001b[0m \u001b[0margs\u001b[0m\u001b[0;34m)\u001b[0m\u001b[0;34m,\u001b[0m \u001b[0;34m**\u001b[0m\u001b[0mkwargs\u001b[0m\u001b[0;34m)\u001b[0m\u001b[0;34m\u001b[0m\u001b[0;34m\u001b[0m\u001b[0m\n\u001b[0m\u001b[1;32m   1439\u001b[0m \u001b[0;34m\u001b[0m\u001b[0m\n\u001b[1;32m   1440\u001b[0m         \u001b[0mbound\u001b[0m \u001b[0;34m=\u001b[0m \u001b[0mnew_sig\u001b[0m\u001b[0;34m.\u001b[0m\u001b[0mbind\u001b[0m\u001b[0;34m(\u001b[0m\u001b[0max\u001b[0m\u001b[0;34m,\u001b[0m \u001b[0;34m*\u001b[0m\u001b[0margs\u001b[0m\u001b[0;34m,\u001b[0m \u001b[0;34m**\u001b[0m\u001b[0mkwargs\u001b[0m\u001b[0;34m)\u001b[0m\u001b[0;34m\u001b[0m\u001b[0;34m\u001b[0m\u001b[0m\n",
      "\u001b[0;32m~/miniconda2/envs/tf/lib/python3.7/site-packages/matplotlib/axes/_axes.py\u001b[0m in \u001b[0;36mimshow\u001b[0;34m(self, X, cmap, norm, aspect, interpolation, alpha, vmin, vmax, origin, extent, filternorm, filterrad, resample, url, **kwargs)\u001b[0m\n\u001b[1;32m   5521\u001b[0m                               resample=resample, **kwargs)\n\u001b[1;32m   5522\u001b[0m \u001b[0;34m\u001b[0m\u001b[0m\n\u001b[0;32m-> 5523\u001b[0;31m         \u001b[0mim\u001b[0m\u001b[0;34m.\u001b[0m\u001b[0mset_data\u001b[0m\u001b[0;34m(\u001b[0m\u001b[0mX\u001b[0m\u001b[0;34m)\u001b[0m\u001b[0;34m\u001b[0m\u001b[0;34m\u001b[0m\u001b[0m\n\u001b[0m\u001b[1;32m   5524\u001b[0m         \u001b[0mim\u001b[0m\u001b[0;34m.\u001b[0m\u001b[0mset_alpha\u001b[0m\u001b[0;34m(\u001b[0m\u001b[0malpha\u001b[0m\u001b[0;34m)\u001b[0m\u001b[0;34m\u001b[0m\u001b[0;34m\u001b[0m\u001b[0m\n\u001b[1;32m   5525\u001b[0m         \u001b[0;32mif\u001b[0m \u001b[0mim\u001b[0m\u001b[0;34m.\u001b[0m\u001b[0mget_clip_path\u001b[0m\u001b[0;34m(\u001b[0m\u001b[0;34m)\u001b[0m \u001b[0;32mis\u001b[0m \u001b[0;32mNone\u001b[0m\u001b[0;34m:\u001b[0m\u001b[0;34m\u001b[0m\u001b[0;34m\u001b[0m\u001b[0m\n",
      "\u001b[0;32m~/miniconda2/envs/tf/lib/python3.7/site-packages/matplotlib/image.py\u001b[0m in \u001b[0;36mset_data\u001b[0;34m(self, A)\u001b[0m\n\u001b[1;32m    699\u001b[0m                 not np.can_cast(self._A.dtype, float, \"same_kind\")):\n\u001b[1;32m    700\u001b[0m             raise TypeError(\"Image data of dtype {} cannot be converted to \"\n\u001b[0;32m--> 701\u001b[0;31m                             \"float\".format(self._A.dtype))\n\u001b[0m\u001b[1;32m    702\u001b[0m \u001b[0;34m\u001b[0m\u001b[0m\n\u001b[1;32m    703\u001b[0m         \u001b[0;32mif\u001b[0m \u001b[0mself\u001b[0m\u001b[0;34m.\u001b[0m\u001b[0m_A\u001b[0m\u001b[0;34m.\u001b[0m\u001b[0mndim\u001b[0m \u001b[0;34m==\u001b[0m \u001b[0;36m3\u001b[0m \u001b[0;32mand\u001b[0m \u001b[0mself\u001b[0m\u001b[0;34m.\u001b[0m\u001b[0m_A\u001b[0m\u001b[0;34m.\u001b[0m\u001b[0mshape\u001b[0m\u001b[0;34m[\u001b[0m\u001b[0;34m-\u001b[0m\u001b[0;36m1\u001b[0m\u001b[0;34m]\u001b[0m \u001b[0;34m==\u001b[0m \u001b[0;36m1\u001b[0m\u001b[0;34m:\u001b[0m\u001b[0;34m\u001b[0m\u001b[0;34m\u001b[0m\u001b[0m\n",
      "\u001b[0;31mTypeError\u001b[0m: Image data of dtype object cannot be converted to float"
     ]
    },
    {
     "data": {
      "image/png": "[encoded data removed]",
      "text/plain": [
       "<Figure size 432x288 with 1 Axes>"
      ]
     },
     "metadata": {
      "needs_background": "light"
     },
     "output_type": "display_data"
    }
   ],
   "source": [
    "base_transforms_list = [\n",
    "    # transforms.RandomRotation(90, fill=(0,)),\n",
    "    # transforms.RandomResizedCrop(28, scale=(0.8, 1.0)),\n",
    "    transforms.ToTensor(),\n",
    "    RandomOutliers(percentage=1.0, subspace_fraction=0.2),\n",
    "]\n",
    "base_transform = transforms.Compose(base_transforms_list)\n",
    "\n",
    "mnist_data = datasets.FashionMNIST('../data', train=True, download=True,\n",
    "                                   transform=base_transform)\n",
    "\n",
    "plt.imshow(mnist_data)\n",
    "\n",
    "plt.show()"
   ]
  },
  {
   "cell_type": "code",
   "execution_count": null,
   "metadata": {},
   "outputs": [],
   "source": [
    "[print(data) for data in mnist_data]"
   ]
  },
  {
   "cell_type": "code",
   "execution_count": 103,
   "metadata": {},
   "outputs": [
    {
     "data": {
      "image/png": "[encoded data removed]",
      "text/plain": [
       "<Figure size 432x288 with 1 Axes>"
      ]
     },
     "metadata": {
      "needs_background": "light"
     },
     "output_type": "display_data"
    },
    {
     "data": {
      "image/png": "[encoded data removed]",
      "text/plain": [
       "<Figure size 432x288 with 1 Axes>"
      ]
     },
     "metadata": {
      "needs_background": "light"
     },
     "output_type": "display_data"
    },
    {
     "ename": "ValueError",
     "evalue": "too many values to unpack (expected 2)",
     "output_type": "error",
     "traceback": [
      "\u001b[0;31m---------------------------------------------------------------------------\u001b[0m",
      "\u001b[0;31mValueError\u001b[0m                                Traceback (most recent call last)",
      "\u001b[0;32m<ipython-input-103-367deb4d134f>\u001b[0m in \u001b[0;36m<module>\u001b[0;34m\u001b[0m\n\u001b[1;32m     23\u001b[0m \u001b[0;34m\u001b[0m\u001b[0m\n\u001b[1;32m     24\u001b[0m \u001b[0;32mfor\u001b[0m \u001b[0mdata\u001b[0m \u001b[0;32min\u001b[0m \u001b[0mfederated_data\u001b[0m\u001b[0;34m[\u001b[0m\u001b[0;36m0\u001b[0m\u001b[0;34m]\u001b[0m\u001b[0;34m:\u001b[0m\u001b[0;34m\u001b[0m\u001b[0;34m\u001b[0m\u001b[0m\n\u001b[0;32m---> 25\u001b[0;31m     \u001b[0mimg\u001b[0m\u001b[0;34m,\u001b[0m \u001b[0m_\u001b[0m \u001b[0;34m=\u001b[0m \u001b[0mdata\u001b[0m\u001b[0;34m\u001b[0m\u001b[0;34m\u001b[0m\u001b[0m\n\u001b[0m\u001b[1;32m     26\u001b[0m     \u001b[0mprint\u001b[0m\u001b[0;34m(\u001b[0m\u001b[0mimg\u001b[0m\u001b[0;34m.\u001b[0m\u001b[0msize\u001b[0m\u001b[0;34m(\u001b[0m\u001b[0;34m)\u001b[0m\u001b[0;34m)\u001b[0m\u001b[0;34m\u001b[0m\u001b[0;34m\u001b[0m\u001b[0m\n\u001b[1;32m     27\u001b[0m     \u001b[0mplt\u001b[0m\u001b[0;34m.\u001b[0m\u001b[0mimshow\u001b[0m\u001b[0;34m(\u001b[0m\u001b[0mimg\u001b[0m\u001b[0;34m[\u001b[0m\u001b[0;36m0\u001b[0m\u001b[0;34m,\u001b[0m \u001b[0;34m:\u001b[0m\u001b[0;34m,\u001b[0m \u001b[0;34m:\u001b[0m\u001b[0;34m]\u001b[0m\u001b[0;34m)\u001b[0m\u001b[0;34m\u001b[0m\u001b[0;34m\u001b[0m\u001b[0m\n",
      "\u001b[0;31mValueError\u001b[0m: too many values to unpack (expected 2)"
     ]
    }
   ],
   "source": [
    "# CONFIGURATION\n",
    "COMMUNICATION_ROUNDS = 5\n",
    "LOCAL_EPOCHS = 2\n",
    "MODEL_NAME = \"conv_ae\" # \"multi_layer_ae\" \"conv_ae\"\n",
    "\n",
    "# CREATE MODEL, FEDERATE DATA AND MODELS\n",
    "if MODEL_NAME == \"one_layer_ae\":\n",
    "    base_model = OneLayerAutoencoder()\n",
    "if MODEL_NAME == \"multi_layer_ae\":\n",
    "    base_model = MultiLayerAutoencoder()\n",
    "if MODEL_NAME == \"conv_ae\":\n",
    "    base_model = ConvAutoencoder()\n",
    "\n",
    "base_model.to(get_device())\n",
    "base_model.train()\n",
    "models_federated = [base_model.copy() for _ in range(NUM_CLIENTS)]\n",
    "models_local = [base_model.copy() for _ in range(NUM_CLIENTS)]\n",
    "base_model_federated = base_model.copy()  # this instance will be redistributed from server to clients\n",
    "\n",
    "outlying_devices = []\n",
    "\n",
    "federated_data = federate(mnist_data, NUM_CLIENTS)\n",
    "\n",
    "for data in federated_data[0]:\n",
    "    img, _ = data\n",
    "    print(img.size())\n",
    "    plt.imshow(img[0, :, :])\n",
    "    plt.show()\n",
    "\n",
    "# ADD LOCAL OUTLIERS TO FEDERATED DATA\n",
    "DEVICES_WITH_LOCAL_OUTLIERS = np.arange(1)\n",
    "LOCAL_OUTLIER_PROBABILITY = 0.01\n",
    "OCCURENCE_PROBABILITY_GENERAL = 0.2\n",
    "\n",
    "brightness_shift = BrightnessShift(0.5)\n",
    "\n",
    "\"\"\"\n",
    "for client, partition in enumerate(federated_data):\n",
    "    data_indices = partition.indices\n",
    "    altered_data = partition.dataset.data[partition.indices]\n",
    "    altered_targets = np.array(partition.dataset.targets[partition.indices]).astype(int)\n",
    "    if client in DEVICES_WITH_LOCAL_OUTLIERS:\n",
    "        altered_data, targets = OutlierWithProbability(LOCAL_OUTLIER_PROBABILITY, \n",
    "                                                       brightness_shift)(altered_data)\n",
    "        targets = np.any(targets, axis=(-1, -2))\n",
    "        altered_targets[targets > 0] = targets[targets > 0] + 1\n",
    "        federated_data[client].dataset.targets[data_indices] = torch.from_numpy(altered_targets)\n",
    "    else:\n",
    "        altered_data, _ = OutlierWithProbability(OCCURENCE_PROBABILITY_GENERAL, \n",
    "                                                       brightness_shift)(altered_data)\n",
    "    federated_data[client].data = altered_data\n",
    "\"\"\"\n",
    "\n",
    "# CREATE DATA LOADER FOR EACH CLIENT\n",
    "data_loaders = [torch.utils.data.DataLoader(subset, batch_size=BATCH_SIZE, shuffle=True) \n",
    "                for subset in federated_data]\n",
    "\n",
    "# for batch in data_loaders[0]:\n",
    "#     img, _ = batch\n",
    "#     plt.imshow(img[0][0])\n",
    "#     plt.show()\n",
    "\n",
    "# THE CRITERION\n",
    "criterion = nn.MSELoss()\n",
    "\n",
    "# CREATE OPTIMIZER INSTANCE FOR EACH MODEL THAT WE TRAIN\n",
    "optimizers_federated = [\n",
    "    torch.optim.Adam(models_federated[i].parameters(), lr=LEARNING_RATE, weight_decay=1e-5)\n",
    "    for i in range(NUM_CLIENTS)\n",
    "]\n",
    "optimizers_local = [\n",
    "    torch.optim.Adam(models_local[i].parameters(), lr=LEARNING_RATE, weight_decay=1e-5)\n",
    "    for i in range(NUM_CLIENTS)\n",
    "]\n",
    "\n",
    "for client in outlying_devices:\n",
    "    client_data = data_loaders[client].dataset\n",
    "    data_loaders[client] = DataLoader(client_data, batch_size=BATCH_SIZE, shuffle=True)\n",
    "\n",
    "# FIT THE OUTLIER DETECTORS\n",
    "loss_df = []\n",
    "\n",
    "for comm_round in range(COMMUNICATION_ROUNDS):\n",
    "    for client in range(NUM_CLIENTS):\n",
    "        loader = data_loaders[client]\n",
    "        model_c = models_federated[client]\n",
    "        model_l = models_local[client]\n",
    "        optimizer_c = optimizers_federated[client]\n",
    "        optimizer_l = optimizers_local[client]\n",
    "        for epoch in range(LOCAL_EPOCHS):\n",
    "            for batch_idx, data in enumerate(loader):\n",
    "                img = data\n",
    "                if client in outlying_devices:\n",
    "                    img = InvertImage()(img)\n",
    "                img = img.to(get_device())\n",
    "                if not MODEL_NAME == \"conv_ae\":\n",
    "                    img = img.view(img.size(0), img.size(1)*img.size(2)*img.size(3))\n",
    "                model_c, loss_c = train(model_c, img, optimizer_c)\n",
    "                model_l, loss_l = train(model_l, img, optimizer_l)\n",
    "                models_federated[client] = model_c\n",
    "                models_local[client] = model_l\n",
    "                if batch_idx % 100 == 0:\n",
    "                    print('Comm round {}, Client {}, Epoch:{}, Batch:{}, Loss_c:{:.4f}, Loss_l:{:.4f}'\n",
    "                          .format(comm_round+1, \n",
    "                                  client+1,\n",
    "                                  epoch+1, \n",
    "                                  batch_idx+1, \n",
    "                                  loss_c, \n",
    "                                  loss_l))\n",
    "                    if client == 0:\n",
    "                        plt.imshow(img.cpu()[0].view(28, 28))\n",
    "                        plt.show()\n",
    "                        save_decoded_image(img, comm_round, epoch, batch_idx)\n",
    "                loss_df.append([client, comm_round, epoch, batch_idx, client in outlying_devices, loss_c])\n",
    "    new_state_dict = get_averaged_weights(models_federated)\n",
    "    base_model_federated.load_state_dict(new_state_dict)\n",
    "    models_federated = [base_model_federated.copy() for _ in range(NUM_CLIENTS)]\n",
    "    optimizers = [\n",
    "        torch.optim.Adam(models_federated[i].parameters(), lr=LEARNING_RATE, weight_decay=1e-5)\n",
    "        for i in range(NUM_CLIENTS)\n",
    "    ]"
   ]
  },
  {
   "cell_type": "markdown",
   "metadata": {},
   "source": [
    "### Model training"
   ]
  },
  {
   "cell_type": "markdown",
   "metadata": {},
   "source": [
    "### Store models"
   ]
  },
  {
   "cell_type": "code",
   "execution_count": null,
   "metadata": {},
   "outputs": [],
   "source": [
    "save_model(base_model_federated, MODEL_NAME + \"_c\")\n",
    "[save_model(model, MODEL_NAME + \"_l_{}\".format(i)) for i, model in enumerate(models_local)]\n",
    "[torch.save(loader, os.path.join(\"FashionMNIST_MODELS\", \"loader_{}.pth\".format(i))) for i, loader in enumerate(data_loaders)]"
   ]
  },
  {
   "cell_type": "markdown",
   "metadata": {},
   "source": [
    "## Evaluation\n",
    "\n",
    "### Load models\n",
    "\n",
    "First we reload the previously trained models and the data loaders.\n",
    "Note that the `base_model_federated` is sufficient, as *C* is identical for all clients"
   ]
  },
  {
   "cell_type": "code",
   "execution_count": null,
   "metadata": {},
   "outputs": [],
   "source": [
    "base_model_federated = load_model(MODEL_NAME + \"_c\")\n",
    "models_local = [load_model(MODEL_NAME + \"_l_{}\".format(i)) for i in range(NUM_CLIENTS)]\n",
    "data_loaders = [torch.load(os.path.join(\"FashionMNIST_MODELS\", \"loader_{}.pth\".format(i))) for i in range(NUM_CLIENTS)]\n",
    "\n",
    "[model.eval() for model in models_local]\n",
    "base_model_federated.eval()"
   ]
  },
  {
   "cell_type": "markdown",
   "metadata": {},
   "source": [
    "## Global and local outliers\n",
    "\n",
    "### Compute outlier scores\n",
    "\n",
    "Let us first compute the outlier scores (mean squared error) for all images we trained on."
   ]
  },
  {
   "cell_type": "code",
   "execution_count": null,
   "metadata": {},
   "outputs": [],
   "source": [
    "criterion = nn.MSELoss()\n",
    "outlier_scores_c = []\n",
    "outlier_scores_l = []\n",
    "ground_truth = []\n",
    "with torch.no_grad():\n",
    "    for client in range(NUM_CLIENTS):\n",
    "        print(\"Inferencing on client {}\".format(client))\n",
    "        model_c = base_model_federated.to(get_device())\n",
    "        model_l = models_local[client].to(get_device())\n",
    "        for batch_idx, batch in enumerate(data_loaders[client]):\n",
    "            data, targets = batch\n",
    "            data = data.to(get_device())\n",
    "            if not MODEL_NAME == \"conv_ae\":\n",
    "                data = data.view(data.shape[0], -1)\n",
    "            pred_c = model_c(data)\n",
    "            pred_l = model_l(data)\n",
    "            os_c = [float(criterion(recon, original)) for recon, original in zip(pred_c, data)]\n",
    "            os_l = [float(criterion(recon, original)) for recon, original in zip(pred_l, data)]\n",
    "            outlier_scores_c += list(os_c)\n",
    "            outlier_scores_l += list(os_l)\n",
    "            ground_truth += list(targets)\n",
    "outlier_scores_c = np.array(outlier_scores_c)\n",
    "outlier_scores_l = np.array(outlier_scores_l)\n",
    "ground_truth = np.array(ground_truth)"
   ]
  },
  {
   "cell_type": "markdown",
   "metadata": {},
   "source": [
    "We check the mean outlier scores of in- and outliers:"
   ]
  },
  {
   "cell_type": "code",
   "execution_count": null,
   "metadata": {},
   "outputs": [],
   "source": [
    "is_normal = ground_truth == 0\n",
    "is_local_outlier = ground_truth == 2\n",
    "is_global_outlier = ground_truth == 1\n",
    "print(np.any(is_normal))\n",
    "print(np.any(is_local_outlier))\n",
    "print(np.any(is_global_outlier))"
   ]
  },
  {
   "cell_type": "code",
   "execution_count": null,
   "metadata": {},
   "outputs": [],
   "source": [
    "mean_os_normal_c = np.mean(outlier_scores_c[is_normal])\n",
    "mean_os_local_outliers_c = np.mean(outlier_scores_c[is_local_outlier])\n",
    "mean_os_global_outliers_c = np.mean(outlier_scores_c[is_global_outlier])\n",
    "\n",
    "mean_os_normal_l = np.mean(outlier_scores_l[is_normal])\n",
    "mean_os_local_outliers_l = np.mean(outlier_scores_l[is_local_outlier])\n",
    "mean_os_global_outliers_l = np.mean(outlier_scores_l[is_global_outlier])\n",
    "\n",
    "print(\"OS_C of inliers:  {:.4f}\".format(mean_os_normal_c))\n",
    "print(\"OS_C of local outliers: {:.4f}\".format(mean_os_local_outliers_c))\n",
    "print(\"OS_C of global outliers: {:.4f}\".format(mean_os_global_outliers_c))\n",
    "\n",
    "print(\"OS_L of inliers:  {:.4f}\".format(mean_os_normal_l))\n",
    "print(\"OS_L of local outliers: {:.4f}\".format(mean_os_local_outliers_l))\n",
    "print(\"OS_L of global outliers: {:.4f}\".format(mean_os_global_outliers_l))"
   ]
  },
  {
   "cell_type": "code",
   "execution_count": null,
   "metadata": {},
   "outputs": [],
   "source": [
    "data_indices = np.array([i for i in range(len(outlier_scores_c))])\n",
    "inlier_indices = data_indices[is_normal]\n",
    "local_outlier_indices = data_indices[is_local_outlier]\n",
    "global_outlier_indices = data_indices[is_global_outlier]\n",
    "\n",
    "fig, axes = plt.subplots(2, 1, sharex=\"all\")\n",
    "axes[0].scatter(np.array([i for i in range(len(outlier_scores_c))])[inlier_indices], \n",
    "                outlier_scores_c[inlier_indices], \n",
    "                alpha=0.005)\n",
    "axes[0].scatter(np.array([i for i in range(len(outlier_scores_c))])[local_outlier_indices], \n",
    "                outlier_scores_c[local_outlier_indices], \n",
    "                alpha=0.05)\n",
    "axes[0].scatter(np.array([i for i in range(len(outlier_scores_c))])[global_outlier_indices], \n",
    "                outlier_scores_c[global_outlier_indices], \n",
    "                alpha=0.05)\n",
    "axes[0].set_title(\"Collective outlier detection\")\n",
    "axes[1].scatter(np.array([i for i in range(len(outlier_scores_c))])[inlier_indices], \n",
    "                outlier_scores_l[inlier_indices], \n",
    "                alpha=0.005)\n",
    "axes[1].scatter(np.array([i for i in range(len(outlier_scores_c))])[local_outlier_indices], \n",
    "                outlier_scores_l[local_outlier_indices], \n",
    "                alpha=0.05)\n",
    "axes[1].scatter(np.array([i for i in range(len(outlier_scores_c))])[global_outlier_indices], \n",
    "                outlier_scores_l[global_outlier_indices], \n",
    "                alpha=0.05)\n",
    "axes[1].set_title(\"Local outlier detection\")\n",
    "plt.tight_layout()\n",
    "plt.xlabel(\"Point index\")\n",
    "axes[0].set_ylabel(\"MSE\")\n",
    "axes[1].set_ylabel(\"MSE\")"
   ]
  },
  {
   "cell_type": "code",
   "execution_count": null,
   "metadata": {},
   "outputs": [],
   "source": [
    "fig, axes = plt.subplots(2, 1)\n",
    "\n",
    "sns.kdeplot(outlier_scores_c[inlier_indices], ax=axes[0])\n",
    "sns.kdeplot(outlier_scores_c[outlier_indices], ax=axes[0])\n",
    "\n",
    "sns.kdeplot(outlier_scores_l[inlier_indices], ax=axes[1])\n",
    "sns.kdeplot(outlier_scores_l[outlier_indices], ax=axes[1])\n",
    "\n",
    "axes[0].set_title(\"Collective OD\")\n",
    "axes[1].set_title(\"Local OD\")\n",
    "\n",
    "plt.xlabel(\"Outlier score\")\n",
    "axes[0].set_ylabel(\"Density\")\n",
    "axes[1].set_ylabel(\"Density\")\n",
    "\n",
    "plt.tight_layout()"
   ]
  },
  {
   "cell_type": "code",
   "execution_count": null,
   "metadata": {},
   "outputs": [],
   "source": [
    "df = pd.DataFrame(loss_df, columns=[\"Client\", \"C-Round\", \"Local Epoch\", \"Batch\", \"Outlier\", \"MSE\"])"
   ]
  },
  {
   "cell_type": "code",
   "execution_count": null,
   "metadata": {},
   "outputs": [],
   "source": [
    "gdf = df.groupby(by=\"Client\")\n",
    "for data in gdf:\n",
    "    data = data[1]\n",
    "    plt.plot(np.arange(len(data)), data[\"MSE\"])"
   ]
  },
  {
   "cell_type": "code",
   "execution_count": null,
   "metadata": {},
   "outputs": [],
   "source": [
    "mean_loss = df.groupby(by=[\"C-Round\", \"Local Epoch\", \"Batch\"]).mean()[\"MSE\"]\n",
    "outlier_loss = df[df[\"Outlier\"] == 1][\"MSE\"]\n",
    "plt.plot(np.arange(len(mean_loss))*NUM_CLIENTS, mean_loss)\n",
    "plt.plot(np.arange(len(mean_loss))*NUM_CLIENTS, outlier_loss)"
   ]
  }
 ],
 "metadata": {
  "kernelspec": {
   "display_name": "Python 3",
   "language": "python",
   "name": "python3"
  },
  "language_info": {
   "codemirror_mode": {
    "name": "ipython",
    "version": 3
   },
   "file_extension": ".py",
   "mimetype": "text/x-python",
   "name": "python",
   "nbconvert_exporter": "python",
   "pygments_lexer": "ipython3",
   "version": "3.7.6"
  }
 },
 "nbformat": 4,
 "nbformat_minor": 1
}
