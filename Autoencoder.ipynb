{
 "cells": [
  {
   "cell_type": "code",
   "execution_count": 1,
   "metadata": {},
   "outputs": [],
   "source": [
    "import os\n",
    "from tqdm import tqdm\n",
    "import math\n",
    "import numpy as np\n",
    "import pandas as pd\n",
    "\n",
    "from sklearn.metrics import roc_curve, auc, average_precision_score, roc_auc_score\n",
    "from scipy import stats\n",
    "\n",
    "from src.utils import parse_filename, normalize, sliding_window\n",
    "from src.experiment import train_federated, create_model, train_central\n",
    "\n",
    "import tensorflow as tf\n",
    "from tensorflow.keras.layers import Input, Dense, Flatten\n",
    "from tensorflow.keras.models import Model\n",
    "\n",
    "from xstream.python.Chains import Chains\n",
    "\n",
    "import matplotlib as mpl\n",
    "from matplotlib import gridspec\n",
    "import matplotlib.pyplot as plt\n",
    "import seaborn as sns\n",
    "mpl.rcParams['text.usetex'] = True\n",
    "mpl.rcParams['text.latex.preamble'] = r'\\usepackage{libertine}'\n",
    "mpl.rc('font', family='serif')"
   ]
  },
  {
   "cell_type": "code",
   "execution_count": null,
   "metadata": {},
   "outputs": [],
   "source": []
  },
  {
   "cell_type": "markdown",
   "metadata": {},
   "source": [
    "Load the data"
   ]
  },
  {
   "cell_type": "code",
   "execution_count": 2,
   "metadata": {
    "scrolled": true
   },
   "outputs": [
    {
     "name": "stdout",
     "output_type": "stream",
     "text": [
      "data is {}.format(data)\n",
      "Executing on synth data\n"
     ]
    }
   ],
   "source": [
    "data_name = \"synth\"\n",
    "\n",
    "if data_name == \"xdk\" or data_name == \"MHEALTHDATASET\" or \"pmsm_temperature_data\":\n",
    "    data = []\n",
    "    directory = os.path.join(os.getcwd(), \"data\", data_name)\n",
    "    for root, dirs, files in os.walk(directory):\n",
    "        for file in files:\n",
    "            if file.endswith(\".csv\"):\n",
    "                print(\"Read {}\".format(file))\n",
    "                data.append(np.loadtxt(os.path.join(directory, file), skiprows=1, delimiter=\",\"))\n",
    "    data = np.array(data)\n",
    "if data_name == \"synth\":\n",
    "    data = np.load(os.path.join(os.getcwd(), \"data\", \"synth\", \"10_10000_100_0.2_0.2_0.01_0.4_0.2_local_d.npy\"))\n",
    "    print(\"data is {}.format(data)\")\n",
    "    \n",
    "print(\"Executing on {} data\".format(data_name))"
   ]
  },
  {
   "cell_type": "markdown",
   "metadata": {},
   "source": [
    "Prepare data"
   ]
  },
  {
   "cell_type": "code",
   "execution_count": 3,
   "metadata": {},
   "outputs": [
    {
     "data": {
      "text/plain": [
       "(10, 10000, 100)"
      ]
     },
     "execution_count": 3,
     "metadata": {},
     "output_type": "execute_result"
    }
   ],
   "source": [
    "min_length = min([len(d) for d in data])\n",
    "max_length = 10000\n",
    "indices = np.random.choice(np.arange(min_length), min(min_length, max_length))\n",
    "trimmed_data = np.array([d[indices] for d in data])\n",
    "oldshape = trimmed_data.shape\n",
    "oldshape"
   ]
  },
  {
   "cell_type": "code",
   "execution_count": 4,
   "metadata": {},
   "outputs": [],
   "source": [
    "def normalize_along_axis(data, axis):\n",
    "    maxval = data.max(axis=axis, keepdims=True)\n",
    "    minval = data.min(axis=axis, keepdims=True)\n",
    "    data = (data-minval)/(maxval-minval)\n",
    "    return data"
   ]
  },
  {
   "cell_type": "code",
   "execution_count": 5,
   "metadata": {},
   "outputs": [],
   "source": [
    "trimmed_data = normalize_along_axis(trimmed_data, axis=(0, 1))"
   ]
  },
  {
   "cell_type": "markdown",
   "metadata": {},
   "source": [
    "Approximated contamination with outliers"
   ]
  },
  {
   "cell_type": "code",
   "execution_count": 6,
   "metadata": {},
   "outputs": [
    {
     "data": {
      "text/plain": [
       "99.0"
      ]
     },
     "execution_count": 6,
     "metadata": {},
     "output_type": "execute_result"
    }
   ],
   "source": [
    "contamination = 0.01\n",
    "percentile = (1-contamination)*100\n",
    "percentile"
   ]
  },
  {
   "cell_type": "code",
   "execution_count": null,
   "metadata": {},
   "outputs": [],
   "source": []
  },
  {
   "cell_type": "markdown",
   "metadata": {},
   "source": [
    "Global setting"
   ]
  },
  {
   "cell_type": "code",
   "execution_count": 7,
   "metadata": {
    "scrolled": true
   },
   "outputs": [
    {
     "name": "stdout",
     "output_type": "stream",
     "text": [
      "Train on 100000 samples\n",
      "Epoch 1/10\n",
      "100000/100000 [==============================] - 8s 84us/sample - loss: 0.7175\n",
      "Epoch 2/10\n",
      "100000/100000 [==============================] - 8s 80us/sample - loss: 0.6947\n",
      "Epoch 3/10\n",
      "100000/100000 [==============================] - 8s 78us/sample - loss: 0.6947\n",
      "Epoch 4/10\n",
      "100000/100000 [==============================] - 8s 81us/sample - loss: 0.6948\n",
      "Epoch 5/10\n",
      "100000/100000 [==============================] - 8s 75us/sample - loss: 0.6947\n",
      "Epoch 6/10\n",
      "100000/100000 [==============================] - 8s 78us/sample - loss: 0.6947\n",
      "Epoch 7/10\n",
      "100000/100000 [==============================] - 8s 81us/sample - loss: 0.6947\n",
      "Epoch 8/10\n",
      "100000/100000 [==============================] - 8s 79us/sample - loss: 0.6947\n",
      "Epoch 9/10\n",
      "100000/100000 [==============================] - 9s 89us/sample - loss: 0.6948\n",
      "Epoch 10/10\n",
      "100000/100000 [==============================] - 9s 89us/sample - loss: 0.6948\n"
     ]
    },
    {
     "data": {
      "text/plain": [
       "<tensorflow.python.keras.callbacks.History at 0x118ffaf10>"
      ]
     },
     "execution_count": 7,
     "metadata": {},
     "output_type": "execute_result"
    }
   ],
   "source": [
    "trimmed_data = np.reshape(trimmed_data, newshape=(trimmed_data.shape[0]*trimmed_data.shape[1], trimmed_data.shape[2]))\n",
    "model = create_model(trimmed_data.shape[-1], 0.4)\n",
    "model.fit(trimmed_data, trimmed_data,\n",
    "          batch_size=32, \n",
    "          epochs=10, shuffle=True)"
   ]
  },
  {
   "cell_type": "code",
   "execution_count": 8,
   "metadata": {},
   "outputs": [],
   "source": [
    "predicted = model.predict(trimmed_data)\n",
    "diff = predicted - trimmed_data\n",
    "dist = np.linalg.norm(diff, axis=-1)"
   ]
  },
  {
   "cell_type": "code",
   "execution_count": null,
   "metadata": {},
   "outputs": [],
   "source": []
  },
  {
   "cell_type": "code",
   "execution_count": 9,
   "metadata": {},
   "outputs": [],
   "source": [
    "labels_global = dist > np.percentile(dist, percentile)"
   ]
  },
  {
   "cell_type": "markdown",
   "metadata": {},
   "source": [
    "Local setting"
   ]
  },
  {
   "cell_type": "code",
   "execution_count": 10,
   "metadata": {
    "scrolled": true
   },
   "outputs": [
    {
     "name": "stdout",
     "output_type": "stream",
     "text": [
      "Train on 10000 samples\n",
      "Epoch 1/10\n",
      "10000/10000 [==============================] - 2s 166us/sample - loss: 0.8970\n",
      "Epoch 2/10\n",
      "10000/10000 [==============================] - 1s 100us/sample - loss: 0.6621\n",
      "Epoch 3/10\n",
      "10000/10000 [==============================] - 1s 113us/sample - loss: 0.6571\n",
      "Epoch 4/10\n",
      "10000/10000 [==============================] - 1s 118us/sample - loss: 0.6546\n",
      "Epoch 5/10\n",
      "10000/10000 [==============================] - 1s 114us/sample - loss: 0.6534\n",
      "Epoch 6/10\n",
      "10000/10000 [==============================] - 1s 102us/sample - loss: 0.6529\n",
      "Epoch 7/10\n",
      "10000/10000 [==============================] - 1s 103us/sample - loss: 0.6527\n",
      "Epoch 8/10\n",
      "10000/10000 [==============================] - 1s 100us/sample - loss: 0.6526\n",
      "Epoch 9/10\n",
      "10000/10000 [==============================] - 1s 101us/sample - loss: 0.6526\n",
      "Epoch 10/10\n",
      "10000/10000 [==============================] - 1s 104us/sample - loss: 0.6526\n",
      "Train on 10000 samples\n",
      "Epoch 1/10\n",
      "10000/10000 [==============================] - 2s 186us/sample - loss: 0.8997\n",
      "Epoch 2/10\n",
      "10000/10000 [==============================] - 1s 100us/sample - loss: 0.6665\n",
      "Epoch 3/10\n",
      "10000/10000 [==============================] - 1s 104us/sample - loss: 0.6620\n",
      "Epoch 4/10\n",
      "10000/10000 [==============================] - 1s 101us/sample - loss: 0.6598\n",
      "Epoch 5/10\n",
      "10000/10000 [==============================] - 1s 102us/sample - loss: 0.6588\n",
      "Epoch 6/10\n",
      "10000/10000 [==============================] - 1s 105us/sample - loss: 0.6583\n",
      "Epoch 7/10\n",
      "10000/10000 [==============================] - 1s 102us/sample - loss: 0.6581\n",
      "Epoch 8/10\n",
      "10000/10000 [==============================] - 1s 100us/sample - loss: 0.6580\n",
      "Epoch 9/10\n",
      "10000/10000 [==============================] - 1s 100us/sample - loss: 0.6580\n",
      "Epoch 10/10\n",
      "10000/10000 [==============================] - 1s 101us/sample - loss: 0.6579\n",
      "Train on 10000 samples\n",
      "Epoch 1/10\n",
      "10000/10000 [==============================] - 2s 181us/sample - loss: 0.9032\n",
      "Epoch 2/10\n",
      "10000/10000 [==============================] - 1s 104us/sample - loss: 0.6674\n",
      "Epoch 3/10\n",
      "10000/10000 [==============================] - 1s 102us/sample - loss: 0.6630\n",
      "Epoch 4/10\n",
      "10000/10000 [==============================] - 1s 104us/sample - loss: 0.6611\n",
      "Epoch 5/10\n",
      "10000/10000 [==============================] - 1s 103us/sample - loss: 0.6602\n",
      "Epoch 6/10\n",
      "10000/10000 [==============================] - 1s 107us/sample - loss: 0.6598\n",
      "Epoch 7/10\n",
      "10000/10000 [==============================] - 1s 106us/sample - loss: 0.6597\n",
      "Epoch 8/10\n",
      "10000/10000 [==============================] - 1s 105us/sample - loss: 0.6596\n",
      "Epoch 9/10\n",
      "10000/10000 [==============================] - 1s 101us/sample - loss: 0.6596\n",
      "Epoch 10/10\n",
      "10000/10000 [==============================] - 1s 102us/sample - loss: 0.6595\n",
      "Train on 10000 samples\n",
      "Epoch 1/10\n",
      "10000/10000 [==============================] - 2s 194us/sample - loss: 0.9049\n",
      "Epoch 2/10\n",
      "10000/10000 [==============================] - 1s 101us/sample - loss: 0.6656\n",
      "Epoch 3/10\n",
      "10000/10000 [==============================] - 1s 102us/sample - loss: 0.6607\n",
      "Epoch 4/10\n",
      "10000/10000 [==============================] - 1s 103us/sample - loss: 0.6583\n",
      "Epoch 5/10\n",
      "10000/10000 [==============================] - 1s 102us/sample - loss: 0.6572\n",
      "Epoch 6/10\n",
      "10000/10000 [==============================] - 1s 102us/sample - loss: 0.6568\n",
      "Epoch 7/10\n",
      "10000/10000 [==============================] - 1s 103us/sample - loss: 0.6567\n",
      "Epoch 8/10\n",
      "10000/10000 [==============================] - 1s 103us/sample - loss: 0.6566\n",
      "Epoch 9/10\n",
      "10000/10000 [==============================] - 1s 102us/sample - loss: 0.6566\n",
      "Epoch 10/10\n",
      "10000/10000 [==============================] - 1s 103us/sample - loss: 0.6566\n",
      "Train on 10000 samples\n",
      "Epoch 1/10\n",
      "10000/10000 [==============================] - 2s 177us/sample - loss: 0.8952\n",
      "Epoch 2/10\n",
      "10000/10000 [==============================] - 1s 99us/sample - loss: 0.6619\n",
      "Epoch 3/10\n",
      "10000/10000 [==============================] - 1s 101us/sample - loss: 0.6570\n",
      "Epoch 4/10\n",
      "10000/10000 [==============================] - 1s 101us/sample - loss: 0.6550\n",
      "Epoch 5/10\n",
      "10000/10000 [==============================] - 1s 101us/sample - loss: 0.6541\n",
      "Epoch 6/10\n",
      "10000/10000 [==============================] - 1s 103us/sample - loss: 0.6537\n",
      "Epoch 7/10\n",
      "10000/10000 [==============================] - 1s 105us/sample - loss: 0.6536\n",
      "Epoch 8/10\n",
      "10000/10000 [==============================] - 1s 105us/sample - loss: 0.6535\n",
      "Epoch 9/10\n",
      "10000/10000 [==============================] - 1s 105us/sample - loss: 0.6535\n",
      "Epoch 10/10\n",
      "10000/10000 [==============================] - 1s 103us/sample - loss: 0.6535\n",
      "Train on 10000 samples\n",
      "Epoch 1/10\n",
      "10000/10000 [==============================] - 2s 181us/sample - loss: 0.8978\n",
      "Epoch 2/10\n",
      "10000/10000 [==============================] - 1s 102us/sample - loss: 0.6673\n",
      "Epoch 3/10\n",
      "10000/10000 [==============================] - 1s 105us/sample - loss: 0.6626\n",
      "Epoch 4/10\n",
      "10000/10000 [==============================] - 1s 105us/sample - loss: 0.6605\n",
      "Epoch 5/10\n",
      "10000/10000 [==============================] - 1s 104us/sample - loss: 0.6595\n",
      "Epoch 6/10\n",
      "10000/10000 [==============================] - 1s 104us/sample - loss: 0.6591\n",
      "Epoch 7/10\n",
      "10000/10000 [==============================] - 1s 113us/sample - loss: 0.6589\n",
      "Epoch 8/10\n",
      "10000/10000 [==============================] - 1s 117us/sample - loss: 0.6589\n",
      "Epoch 9/10\n",
      "10000/10000 [==============================] - 1s 114us/sample - loss: 0.6588\n",
      "Epoch 10/10\n",
      "10000/10000 [==============================] - 1s 105us/sample - loss: 0.6588\n",
      "Train on 10000 samples\n",
      "Epoch 1/10\n",
      "10000/10000 [==============================] - 2s 186us/sample - loss: 0.9000\n",
      "Epoch 2/10\n",
      "10000/10000 [==============================] - 1s 99us/sample - loss: 0.6646\n",
      "Epoch 3/10\n",
      "10000/10000 [==============================] - 1s 102us/sample - loss: 0.6598\n",
      "Epoch 4/10\n",
      "10000/10000 [==============================] - 1s 106us/sample - loss: 0.6578\n",
      "Epoch 5/10\n",
      "10000/10000 [==============================] - 1s 105us/sample - loss: 0.6569\n",
      "Epoch 6/10\n",
      "10000/10000 [==============================] - 1s 102us/sample - loss: 0.6565\n",
      "Epoch 7/10\n",
      "10000/10000 [==============================] - 1s 102us/sample - loss: 0.6563\n",
      "Epoch 8/10\n",
      "10000/10000 [==============================] - 1s 100us/sample - loss: 0.6563\n",
      "Epoch 9/10\n",
      "10000/10000 [==============================] - 1s 103us/sample - loss: 0.6562\n",
      "Epoch 10/10\n",
      "10000/10000 [==============================] - 1s 103us/sample - loss: 0.6562\n",
      "Train on 10000 samples\n",
      "Epoch 1/10\n",
      "10000/10000 [==============================] - 2s 177us/sample - loss: 0.8982\n",
      "Epoch 2/10\n",
      "10000/10000 [==============================] - 1s 100us/sample - loss: 0.6644\n",
      "Epoch 3/10\n",
      "10000/10000 [==============================] - 1s 102us/sample - loss: 0.6599\n",
      "Epoch 4/10\n",
      "10000/10000 [==============================] - 1s 123us/sample - loss: 0.6577\n",
      "Epoch 5/10\n",
      "10000/10000 [==============================] - 1s 116us/sample - loss: 0.6566\n",
      "Epoch 6/10\n",
      "10000/10000 [==============================] - 1s 107us/sample - loss: 0.6562\n",
      "Epoch 7/10\n",
      "10000/10000 [==============================] - 1s 102us/sample - loss: 0.6560\n",
      "Epoch 8/10\n",
      "10000/10000 [==============================] - 1s 99us/sample - loss: 0.6559\n",
      "Epoch 9/10\n",
      "10000/10000 [==============================] - 1s 101us/sample - loss: 0.6558\n",
      "Epoch 10/10\n",
      "10000/10000 [==============================] - 1s 101us/sample - loss: 0.6558\n",
      "Train on 10000 samples\n",
      "Epoch 1/10\n",
      "10000/10000 [==============================] - 2s 177us/sample - loss: 0.9031\n",
      "Epoch 2/10\n",
      "10000/10000 [==============================] - 1s 99us/sample - loss: 0.6650\n",
      "Epoch 3/10\n",
      "10000/10000 [==============================] - 1s 102us/sample - loss: 0.6601\n",
      "Epoch 4/10\n",
      "10000/10000 [==============================] - 1s 102us/sample - loss: 0.6579\n",
      "Epoch 5/10\n",
      "10000/10000 [==============================] - 1s 102us/sample - loss: 0.6569\n",
      "Epoch 6/10\n",
      "10000/10000 [==============================] - 1s 118us/sample - loss: 0.6564\n",
      "Epoch 7/10\n",
      "10000/10000 [==============================] - 1s 105us/sample - loss: 0.6562\n",
      "Epoch 8/10\n",
      "10000/10000 [==============================] - 1s 102us/sample - loss: 0.6561\n",
      "Epoch 9/10\n",
      "10000/10000 [==============================] - 1s 101us/sample - loss: 0.6561\n",
      "Epoch 10/10\n",
      "10000/10000 [==============================] - 1s 99us/sample - loss: 0.6561\n",
      "Train on 10000 samples\n",
      "Epoch 1/10\n",
      "10000/10000 [==============================] - 2s 189us/sample - loss: 0.9066\n",
      "Epoch 2/10\n",
      "10000/10000 [==============================] - 1s 97us/sample - loss: 0.6695\n",
      "Epoch 3/10\n",
      "10000/10000 [==============================] - 1s 116us/sample - loss: 0.6650\n",
      "Epoch 4/10\n",
      "10000/10000 [==============================] - 1s 106us/sample - loss: 0.6631\n",
      "Epoch 5/10\n",
      "10000/10000 [==============================] - 1s 102us/sample - loss: 0.6624\n",
      "Epoch 6/10\n",
      "10000/10000 [==============================] - 1s 101us/sample - loss: 0.6621\n",
      "Epoch 7/10\n",
      "10000/10000 [==============================] - 1s 98us/sample - loss: 0.6620\n",
      "Epoch 8/10\n",
      "10000/10000 [==============================] - 1s 110us/sample - loss: 0.6620\n",
      "Epoch 9/10\n",
      "10000/10000 [==============================] - 1s 107us/sample - loss: 0.6620\n",
      "Epoch 10/10\n",
      "10000/10000 [==============================] - 1s 105us/sample - loss: 0.6619\n"
     ]
    },
    {
     "data": {
      "text/plain": [
       "[<tensorflow.python.keras.callbacks.History at 0x1a4b25ebd0>,\n",
       " <tensorflow.python.keras.callbacks.History at 0x1a495e1ed0>,\n",
       " <tensorflow.python.keras.callbacks.History at 0x1a5ce1ba50>,\n",
       " <tensorflow.python.keras.callbacks.History at 0x1a5d508e10>,\n",
       " <tensorflow.python.keras.callbacks.History at 0x1a491b1950>,\n",
       " <tensorflow.python.keras.callbacks.History at 0x1a5db60b90>,\n",
       " <tensorflow.python.keras.callbacks.History at 0x1a5e231ed0>,\n",
       " <tensorflow.python.keras.callbacks.History at 0x1a5e8ec8d0>,\n",
       " <tensorflow.python.keras.callbacks.History at 0x1a5efbbc50>,\n",
       " <tensorflow.python.keras.callbacks.History at 0x1a5f69c690>]"
      ]
     },
     "execution_count": 10,
     "metadata": {},
     "output_type": "execute_result"
    }
   ],
   "source": [
    "trimmed_data = np.reshape(trimmed_data, newshape=(oldshape[0], oldshape[1], trimmed_data.shape[-1]))\n",
    "models = [create_model(trimmed_data.shape[-1], 0.4) for i in range(len(trimmed_data))]\n",
    "[m.fit(trimmed_data[i], trimmed_data[i],\n",
    "       batch_size=32, \n",
    "       epochs=10, shuffle=True) for i, m in enumerate(models)]"
   ]
  },
  {
   "cell_type": "code",
   "execution_count": 11,
   "metadata": {},
   "outputs": [],
   "source": [
    "predictions_local = np.array([m.predict(trimmed_data[i]) for i, m in enumerate(models)])"
   ]
  },
  {
   "cell_type": "code",
   "execution_count": 12,
   "metadata": {},
   "outputs": [],
   "source": [
    "diff_local = predictions_local - np.reshape(trimmed_data, predictions_local.shape)\n",
    "dist_local = np.linalg.norm(diff_local, axis=-1)"
   ]
  },
  {
   "cell_type": "code",
   "execution_count": 13,
   "metadata": {},
   "outputs": [],
   "source": [
    "result_local = dist_local\n",
    "result_global = dist"
   ]
  },
  {
   "cell_type": "code",
   "execution_count": null,
   "metadata": {},
   "outputs": [],
   "source": []
  },
  {
   "cell_type": "code",
   "execution_count": 14,
   "metadata": {},
   "outputs": [
    {
     "data": {
      "text/plain": [
       "(10, 10000)"
      ]
     },
     "execution_count": 14,
     "metadata": {},
     "output_type": "execute_result"
    }
   ],
   "source": [
    "outlier_thresh_local = np.percentile(result_local, percentile, axis=1, keepdims=True)\n",
    "outlier_thresh_local = np.repeat(outlier_thresh_local, result_local.shape[-1], axis=-1)\n",
    "labels_local = (result_local > outlier_thresh_local).flatten()\n",
    "outlier_thresh_local.shape"
   ]
  },
  {
   "cell_type": "code",
   "execution_count": 15,
   "metadata": {},
   "outputs": [
    {
     "data": {
      "text/plain": [
       "1000"
      ]
     },
     "execution_count": 15,
     "metadata": {},
     "output_type": "execute_result"
    }
   ],
   "source": [
    "outlier_thresh_global = np.percentile(result_global, q=percentile)\n",
    "labels_global = (result_global > outlier_thresh_global).flatten()\n",
    "np.sum(labels_global)"
   ]
  },
  {
   "cell_type": "code",
   "execution_count": 16,
   "metadata": {},
   "outputs": [],
   "source": [
    "result_local = np.reshape(result_local, newshape=result_global.shape)"
   ]
  },
  {
   "cell_type": "code",
   "execution_count": 21,
   "metadata": {},
   "outputs": [
    {
     "name": "stdout",
     "output_type": "stream",
     "text": [
      "1000\n",
      "993\n",
      "The fraction of local outliers for synth is 0.9657603222557906\n"
     ]
    }
   ],
   "source": [
    "print(np.sum(labels_global))\n",
    "print(np.sum(labels_local))\n",
    "\n",
    "print(\"The fraction of local outliers for {} is {}\".format(\n",
    "    data_name, \n",
    "    1 - np.sum(np.logical_and(labels_global.flatten(), labels_local))/np.sum(labels_local)\n",
    "))"
   ]
  },
  {
   "cell_type": "code",
   "execution_count": 18,
   "metadata": {},
   "outputs": [
    {
     "data": {
      "text/plain": [
       "Text(0.5, 0, 'Outlier scores by $C$')"
      ]
     },
     "execution_count": 18,
     "metadata": {},
     "output_type": "execute_result"
    },
    {
     "data": {
      "image/png": "[encoded data removed]",
      "text/plain": [
       "<Figure size 432x288 with 2 Axes>"
      ]
     },
     "metadata": {
      "needs_background": "light"
     },
     "output_type": "display_data"
    }
   ],
   "source": [
    "fig, axes = plt.subplots(1, 2, sharey=False)\n",
    "\n",
    "ax = axes[0]\n",
    "sns.distplot(result_local[np.invert(labels_local.flatten())], \n",
    "             hist=True, rug=False, kde=False, \n",
    "             rug_kws={\"alpha\": 0.3}, norm_hist=True, \n",
    "             ax=ax)\n",
    "\n",
    "sns.distplot(result_local[labels_local.flatten()], \n",
    "             hist=True, rug=False, kde=False, \n",
    "             rug_kws={\"alpha\": 0.5}, norm_hist=True, \n",
    "             ax=ax)\n",
    "\n",
    "ax.set_xlim((0, 1.5))\n",
    "ax.set_xlabel(\"Outlier scores by $L$\")\n",
    "\n",
    "ax = axes[1]\n",
    "\n",
    "sns.distplot(result_global[np.invert(labels_local.flatten())], \n",
    "             hist=True, rug=False, kde=False, norm_hist=True, \n",
    "             rug_kws={\"alpha\": 0.3}, label=\"Inlier identified by $L$\", \n",
    "             ax=ax)\n",
    "\n",
    "sns.distplot(result_global[labels_local.flatten()], \n",
    "             hist=True, rug=False, kde=False, \n",
    "             rug_kws={\"alpha\": 0.5}, norm_hist=True, \n",
    "             label=\"Outlier identified by $L$\", \n",
    "             ax=ax)\n",
    "\n",
    "\n",
    "# ax.set_xlim((0, 1.5))\n",
    "plt.legend(bbox_to_anchor=(1.2, 1), loc=2, borderaxespad=0.)\n",
    "\n",
    "ax.set_xlabel(\"Outlier scores by $C$\")\n",
    "# plt.tight_layout()"
   ]
  },
  {
   "cell_type": "code",
   "execution_count": 19,
   "metadata": {},
   "outputs": [
    {
     "data": {
      "image/png": "[encoded data removed]",
      "text/plain": [
       "<Figure size 432x288 with 2 Axes>"
      ]
     },
     "metadata": {
      "needs_background": "light"
     },
     "output_type": "display_data"
    }
   ],
   "source": [
    "x = np.array([i for i in range(len(result_global))])\n",
    "\n",
    "# labels_local and not labels_global\n",
    "is_local_outlier = np.logical_and(labels_local, result_global < np.percentile(result_global, percentile))\n",
    "is_global_outlier = np.logical_and(np.invert(is_local_outlier), labels_local)\n",
    "\n",
    "plt.subplot(121)\n",
    "\n",
    "sns.lineplot(x, outlier_thresh_local.flatten(), \n",
    "                 alpha=1, color=\"lightgrey\")\n",
    "sns.scatterplot(x[is_global_outlier], result_local[is_global_outlier], \n",
    "                alpha=1.0, marker=\"x\")\n",
    "sns.scatterplot(x[is_local_outlier], result_local[is_local_outlier], \n",
    "                color=\"indianred\")\n",
    "\n",
    "plt.xlabel(\"Index\")\n",
    "plt.ylabel(\"Outlier Score (on-device training)\")\n",
    "\n",
    "ax = plt.subplot(122)\n",
    "\n",
    "sns.lineplot(x, outlier_thresh_global, \n",
    "                 alpha=1, color=\"lightgrey\", label=\"Threshold ({}th percentile)\".format(percentile))\n",
    "sns.scatterplot(x[is_global_outlier], result_global[is_global_outlier], \n",
    "                alpha=1.0, marker=\"x\", label=\"Global outlier\")\n",
    "sns.scatterplot(x[is_local_outlier], result_global[is_local_outlier], \n",
    "                color=\"indianred\", alpha=1.0, label=\"Local outlier\")\n",
    "\n",
    "plt.legend(loc=\"upper right\")\n",
    "plt.xlabel(\"Index\")\n",
    "plt.ylabel(\"Outlier Score (centralized training)\")\n",
    "\n",
    "plt.tight_layout()\n",
    "plt.savefig(os.path.join(os.getcwd(), \"figures\", \"results\", \"xdk_comparison_local_central_ae.pdf\"))\n",
    "plt.show()"
   ]
  },
  {
   "cell_type": "code",
   "execution_count": null,
   "metadata": {},
   "outputs": [],
   "source": []
  },
  {
   "cell_type": "code",
   "execution_count": null,
   "metadata": {},
   "outputs": [],
   "source": []
  },
  {
   "cell_type": "code",
   "execution_count": null,
   "metadata": {},
   "outputs": [],
   "source": []
  }
 ],
 "metadata": {
  "kernelspec": {
   "display_name": "Python 3",
   "language": "python",
   "name": "python3"
  },
  "language_info": {
   "codemirror_mode": {
    "name": "ipython",
    "version": 3
   },
   "file_extension": ".py",
   "mimetype": "text/x-python",
   "name": "python",
   "nbconvert_exporter": "python",
   "pygments_lexer": "ipython3",
   "version": "3.7.6"
  }
 },
 "nbformat": 4,
 "nbformat_minor": 4
}
