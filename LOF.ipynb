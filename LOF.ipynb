{
 "cells": [
  {
   "cell_type": "code",
   "execution_count": 1,
   "metadata": {},
   "outputs": [],
   "source": [
    "import os\n",
    "from tqdm import tqdm\n",
    "import math\n",
    "import numpy as np\n",
    "import pandas as pd\n",
    "\n",
    "from sklearn.neighbors import LocalOutlierFactor\n",
    "from sklearn.metrics import roc_curve, auc, average_precision_score, roc_auc_score\n",
    "from scipy import stats\n",
    "\n",
    "from src.utils import parse_filename, normalize, sliding_window\n",
    "\n",
    "import tensorflow as tf\n",
    "from tensorflow.keras.layers import Input, Dense, Flatten\n",
    "from tensorflow.keras.models import Model\n",
    "\n",
    "from xstream.python.Chains import Chains\n",
    "\n",
    "import matplotlib as mpl\n",
    "from matplotlib import gridspec\n",
    "import matplotlib.pyplot as plt\n",
    "import seaborn as sns\n",
    "mpl.rcParams['text.usetex'] = True\n",
    "mpl.rcParams['text.latex.preamble'] = r'\\usepackage{libertine}'\n",
    "mpl.rc('font', family='serif')"
   ]
  },
  {
   "cell_type": "code",
   "execution_count": 2,
   "metadata": {},
   "outputs": [
    {
     "name": "stdout",
     "output_type": "stream",
     "text": [
      "Executing on synth data\n"
     ]
    }
   ],
   "source": [
    "data_name = \"synth\"\n",
    "\n",
    "if data_name == \"xdk\" or data_name == \"MHEALTHDATASET\" or \"pmsm_temperature_data\":\n",
    "    data = []\n",
    "    directory = os.path.join(os.getcwd(), \"data\", data_name)\n",
    "    for root, dirs, files in os.walk(directory):\n",
    "        for file in files:\n",
    "            if file.endswith(\".csv\"):\n",
    "                print(\"Read {}\".format(file))\n",
    "                data.append(np.loadtxt(os.path.join(directory, file), skiprows=1, delimiter=\",\"))\n",
    "    data = np.array(data)\n",
    "if data_name == \"synth\":\n",
    "    data = np.load(os.path.join(os.getcwd(), \"data\", \"synth\", \"10_10000_100_0.2_0.2_0.01_0.4_0.2_local_d.npy\"))\n",
    "    \n",
    "print(\"Executing on {} data\".format(data_name))"
   ]
  },
  {
   "cell_type": "code",
   "execution_count": null,
   "metadata": {},
   "outputs": [],
   "source": []
  },
  {
   "cell_type": "code",
   "execution_count": 3,
   "metadata": {},
   "outputs": [],
   "source": [
    "min_length = min([len(d) for d in data])\n",
    "max_length = 10000\n",
    "indices = np.random.choice(np.arange(min_length), min(min_length, max_length), replace=False)\n",
    "trimmed_data = np.array([d[indices] for d in data])"
   ]
  },
  {
   "cell_type": "code",
   "execution_count": 4,
   "metadata": {},
   "outputs": [
    {
     "data": {
      "text/plain": [
       "99.0"
      ]
     },
     "execution_count": 4,
     "metadata": {},
     "output_type": "execute_result"
    }
   ],
   "source": [
    "contamination = 0.01\n",
    "percentile = (1-contamination)*100\n",
    "percentile"
   ]
  },
  {
   "cell_type": "code",
   "execution_count": null,
   "metadata": {},
   "outputs": [],
   "source": []
  },
  {
   "cell_type": "code",
   "execution_count": 5,
   "metadata": {},
   "outputs": [],
   "source": [
    "oldshape = trimmed_data.shape\n",
    "trimmed_data = np.reshape(trimmed_data, newshape=(trimmed_data.shape[0]*trimmed_data.shape[1], trimmed_data.shape[2]))\n",
    "clf = LocalOutlierFactor(n_neighbors=20, contamination=contamination, novelty=True)\n",
    "clf.fit(trimmed_data)\n",
    "labels_global = clf.predict(trimmed_data) == -1\n",
    "# labels = np.reshape(predictions, newshape=(oldshape[0], oldshape[1]))\n",
    "trimmed_data = np.reshape(trimmed_data, newshape=oldshape)"
   ]
  },
  {
   "cell_type": "code",
   "execution_count": 6,
   "metadata": {},
   "outputs": [],
   "source": [
    "predictions_global = -clf.negative_outlier_factor_"
   ]
  },
  {
   "cell_type": "code",
   "execution_count": null,
   "metadata": {},
   "outputs": [],
   "source": []
  },
  {
   "cell_type": "code",
   "execution_count": 7,
   "metadata": {},
   "outputs": [],
   "source": [
    "models = [LocalOutlierFactor(n_neighbors=20, contamination=contamination, novelty=True) for _ in range(trimmed_data.shape[0])]\n",
    "[model.fit(trimmed_data[i]) for i, model in enumerate(models)]\n",
    "# labels_local = np.array([model.predict(trimmed_data[i]) == -1 for i, model in enumerate(models)]).flatten()\n",
    "predictions_local = np.array([-model.negative_outlier_factor_ for i, model in enumerate(models)])"
   ]
  },
  {
   "cell_type": "code",
   "execution_count": 8,
   "metadata": {},
   "outputs": [],
   "source": [
    "result_local = predictions_local\n",
    "result_global = predictions_global"
   ]
  },
  {
   "cell_type": "code",
   "execution_count": null,
   "metadata": {},
   "outputs": [],
   "source": []
  },
  {
   "cell_type": "code",
   "execution_count": 9,
   "metadata": {},
   "outputs": [
    {
     "data": {
      "text/plain": [
       "(10, 10000)"
      ]
     },
     "execution_count": 9,
     "metadata": {},
     "output_type": "execute_result"
    }
   ],
   "source": [
    "outlier_thresh_local = np.percentile(result_local, percentile, axis=1, keepdims=True)\n",
    "outlier_thresh_local = np.repeat(outlier_thresh_local, result_local.shape[-1], axis=-1)\n",
    "labels_local = (result_local > outlier_thresh_local).flatten()\n",
    "outlier_thresh_local.shape"
   ]
  },
  {
   "cell_type": "code",
   "execution_count": 10,
   "metadata": {},
   "outputs": [
    {
     "data": {
      "text/plain": [
       "1000"
      ]
     },
     "execution_count": 10,
     "metadata": {},
     "output_type": "execute_result"
    }
   ],
   "source": [
    "outlier_thresh_global = np.percentile(result_global, q=percentile)\n",
    "labels_global = (result_global > outlier_thresh_global).flatten()\n",
    "np.sum(labels_global)"
   ]
  },
  {
   "cell_type": "code",
   "execution_count": 11,
   "metadata": {},
   "outputs": [],
   "source": [
    "result_local = np.reshape(result_local, newshape=result_global.shape)"
   ]
  },
  {
   "cell_type": "code",
   "execution_count": 12,
   "metadata": {},
   "outputs": [
    {
     "name": "stdout",
     "output_type": "stream",
     "text": [
      "The fraction of local outliers for synth is 0.14800000000000002\n"
     ]
    }
   ],
   "source": [
    "print(\"The fraction of local outliers for {} is {}\".format(\n",
    "    data_name, \n",
    "    1 - np.sum(np.logical_and(labels_global.flatten(), labels_local))/np.sum(labels_local)\n",
    "))"
   ]
  },
  {
   "cell_type": "code",
   "execution_count": 13,
   "metadata": {},
   "outputs": [
    {
     "data": {
      "text/plain": [
       "(100000,)"
      ]
     },
     "execution_count": 13,
     "metadata": {},
     "output_type": "execute_result"
    },
    {
     "data": {
      "image/png": "[encoded data removed]",
      "text/plain": [
       "<Figure size 432x288 with 2 Axes>"
      ]
     },
     "metadata": {
      "needs_background": "light"
     },
     "output_type": "display_data"
    }
   ],
   "source": [
    "fig, axes = plt.subplots(1, 2, sharey=True)\n",
    "\n",
    "ax = axes[0]\n",
    "sns.distplot(result_local[np.invert(labels_local.flatten())], \n",
    "             hist=True, rug=False, kde=False, \n",
    "             rug_kws={\"alpha\": 0.3}, norm_hist=True, \n",
    "             ax=ax)\n",
    "\n",
    "sns.distplot(result_local[labels_local.flatten()], \n",
    "             hist=True, rug=False, kde=False, \n",
    "             rug_kws={\"alpha\": 0.5}, norm_hist=True, \n",
    "             ax=ax)\n",
    "\n",
    "ax.set_xlim((0.5, 3))\n",
    "ax.set_xlabel(\"Outlier scores by $L$\")\n",
    "\n",
    "ax = axes[1]\n",
    "\n",
    "sns.distplot(result_global[np.invert(labels_local.flatten())], \n",
    "             hist=True, rug=False, kde=False, norm_hist=True, \n",
    "             rug_kws={\"alpha\": 0.3}, label=\"Outlier not identified by $L$\", \n",
    "             ax=ax)\n",
    "\n",
    "sns.distplot(result_global[labels_local.flatten()], \n",
    "             hist=True, rug=False, kde=False, \n",
    "             rug_kws={\"alpha\": 0.5}, norm_hist=True, \n",
    "             label=\"Outlier identified by $L$\", \n",
    "             ax=ax)\n",
    "\n",
    "\n",
    "ax.set_xlim((0.5, 3))\n",
    "plt.legend(bbox_to_anchor=(1.2, 1), loc=2, borderaxespad=0.)\n",
    "\n",
    "ax.set_xlabel(\"Outlier scores by $C$\")\n",
    "# plt.tight_layout()\n",
    "result_global.shape"
   ]
  },
  {
   "cell_type": "code",
   "execution_count": 14,
   "metadata": {},
   "outputs": [
    {
     "data": {
      "text/plain": [
       "Text(0.5, 0, 'Global OS, local labels')"
      ]
     },
     "execution_count": 14,
     "metadata": {},
     "output_type": "execute_result"
    },
    {
     "data": {
      "image/png": "[encoded data removed]",
      "text/plain": [
       "<Figure size 432x288 with 2 Axes>"
      ]
     },
     "metadata": {
      "needs_background": "light"
     },
     "output_type": "display_data"
    }
   ],
   "source": [
    "ax = plt.subplot(121)\n",
    "\n",
    "sns.distplot(result_local[np.invert(labels_local.flatten())], \n",
    "             hist=True, rug=False, kde=False, \n",
    "             rug_kws={\"alpha\": 0.3}, norm_hist=True)\n",
    "\n",
    "sns.distplot(result_local[labels_local.flatten()], \n",
    "             hist=True, rug=False, kde=False, \n",
    "             rug_kws={\"alpha\": 0.5}, norm_hist=True)\n",
    "\n",
    "# ax.set_xlim((0.5, 6))\n",
    "ax.set_xlabel(\"Local OS, local labels\")\n",
    "\n",
    "ax = plt.subplot(122)\n",
    "\n",
    "sns.distplot(result_global[np.invert(labels_local.flatten())], \n",
    "             hist=True, rug=False, kde=False, norm_hist=True, \n",
    "             rug_kws={\"alpha\": 0.3}, label=\"Outlier not identified by $L$\")\n",
    "\n",
    "sns.distplot(result_global[labels_local.flatten()], \n",
    "             hist=True, rug=False, kde=False, \n",
    "             rug_kws={\"alpha\": 0.5}, norm_hist=True, \n",
    "             label=\"Outlier identified by $L$\")\n",
    "\n",
    "\n",
    "# ax.set_xlim((0.5, 6))\n",
    "plt.legend(bbox_to_anchor=(1.05, 1), loc=2, borderaxespad=0.)\n",
    "\n",
    "ax.set_xlabel(\"Global OS, local labels\")"
   ]
  },
  {
   "cell_type": "code",
   "execution_count": null,
   "metadata": {},
   "outputs": [],
   "source": []
  },
  {
   "cell_type": "code",
   "execution_count": 15,
   "metadata": {},
   "outputs": [
    {
     "data": {
      "text/plain": [
       "<matplotlib.axes._subplots.AxesSubplot at 0x1a4cd7ab90>"
      ]
     },
     "execution_count": 15,
     "metadata": {},
     "output_type": "execute_result"
    },
    {
     "data": {
      "image/png": "[encoded data removed]",
      "text/plain": [
       "<Figure size 432x288 with 2 Axes>"
      ]
     },
     "metadata": {
      "needs_background": "light"
     },
     "output_type": "display_data"
    }
   ],
   "source": [
    "result_global = np.reshape(result_global, newshape=(oldshape[0], oldshape[1]))\n",
    "result_local = np.reshape(result_local, newshape=(oldshape[0], oldshape[1]))\n",
    "labels_global = np.reshape(labels_global, newshape=(oldshape[0], oldshape[1]))\n",
    "labels_local = np.reshape(labels_local, newshape=(oldshape[0], oldshape[1]))\n",
    "\n",
    "# Local data\n",
    "fig, axes = plt.subplots(1, 2, sharey=False)\n",
    "\n",
    "device_index = np.array([i for i, results in enumerate(result_local) for _ in results])\n",
    "result_local = np.reshape(result_local, newshape=(oldshape[0]*oldshape[1]))\n",
    "labels_local = np.reshape(labels_local, newshape=(oldshape[0]*oldshape[1]))\n",
    "df = pd.DataFrame(np.array([device_index,\n",
    "                            result_local, labels_local]).T, columns=[\"index\", \"score\", \"outlier\"])\n",
    "sns.boxplot(x=\"index\", y=\"score\", data=df, hue=\"outlier\", ax=axes[0])\n",
    "\n",
    "device_index = np.array([i for i, results in enumerate(result_global) for _ in results])\n",
    "result_global = np.reshape(result_global, newshape=(oldshape[0]*oldshape[1]))\n",
    "labels_local = np.reshape(labels_local, newshape=(oldshape[0]*oldshape[1]))\n",
    "df = pd.DataFrame(np.array([device_index,\n",
    "                            result_global, labels_local]).T, columns=[\"index\", \"score\", \"outlier\"])\n",
    "sns.boxplot(x=\"index\", y=\"score\", data=df, hue=\"outlier\", ax=axes[1])"
   ]
  },
  {
   "cell_type": "code",
   "execution_count": 16,
   "metadata": {
    "scrolled": true
   },
   "outputs": [
    {
     "data": {
      "image/png": "[encoded data removed]",
      "text/plain": [
       "<Figure size 432x288 with 2 Axes>"
      ]
     },
     "metadata": {
      "needs_background": "light"
     },
     "output_type": "display_data"
    }
   ],
   "source": [
    "x = np.array([i for i in range(len(result_global))])\n",
    "\n",
    "# labels_local and not labels_global\n",
    "is_local_outlier = np.logical_and(labels_local, result_global < np.percentile(result_global, percentile))\n",
    "is_global_outlier = np.logical_and(np.invert(is_local_outlier), labels_local)\n",
    "\n",
    "plt.subplot(121)\n",
    "\n",
    "sns.lineplot(x, outlier_thresh_local.flatten(), \n",
    "                 alpha=1, color=\"lightgrey\")\n",
    "sns.scatterplot(x[is_global_outlier], result_local[is_global_outlier], \n",
    "                alpha=1.0, marker=\"x\")\n",
    "sns.scatterplot(x[is_local_outlier], result_local[is_local_outlier], \n",
    "                color=\"indianred\")\n",
    "\n",
    "plt.xlabel(\"Index\")\n",
    "plt.ylabel(\"LOF (on-device training)\")\n",
    "\n",
    "ax = plt.subplot(122)\n",
    "\n",
    "sns.lineplot(x, outlier_thresh_global, \n",
    "                 alpha=1, color=\"lightgrey\", label=\"Threshold ({}th percentile)\".format(percentile))\n",
    "sns.scatterplot(x[is_global_outlier], result_global[is_global_outlier], \n",
    "                alpha=1.0, marker=\"x\", label=\"Global outlier\")\n",
    "sns.scatterplot(x[is_local_outlier], result_global[is_local_outlier], \n",
    "                color=\"indianred\", alpha=1.0, label=\"Local outlier\")\n",
    "\n",
    "plt.legend(loc=\"upper right\")\n",
    "plt.xlabel(\"Index\")\n",
    "plt.ylabel(\"LOF (centralized training)\")\n",
    "\n",
    "plt.tight_layout()\n",
    "plt.savefig(os.path.join(os.getcwd(), \"figures\", \"results\", \"mhealth_comparison_local_central_lof.pdf\"))\n",
    "plt.show()"
   ]
  },
  {
   "cell_type": "code",
   "execution_count": 17,
   "metadata": {},
   "outputs": [
    {
     "ename": "NameError",
     "evalue": "name 'predictions_central' is not defined",
     "output_type": "error",
     "traceback": [
      "\u001b[0;31m---------------------------------------------------------------------------\u001b[0m",
      "\u001b[0;31mNameError\u001b[0m                                 Traceback (most recent call last)",
      "\u001b[0;32m<ipython-input-17-e67aace71a59>\u001b[0m in \u001b[0;36m<module>\u001b[0;34m\u001b[0m\n\u001b[0;32m----> 1\u001b[0;31m \u001b[0mx\u001b[0m \u001b[0;34m=\u001b[0m \u001b[0mnp\u001b[0m\u001b[0;34m.\u001b[0m\u001b[0marray\u001b[0m\u001b[0;34m(\u001b[0m\u001b[0;34m[\u001b[0m\u001b[0mi\u001b[0m \u001b[0;32mfor\u001b[0m \u001b[0mi\u001b[0m \u001b[0;32min\u001b[0m \u001b[0mrange\u001b[0m\u001b[0;34m(\u001b[0m\u001b[0mlen\u001b[0m\u001b[0;34m(\u001b[0m\u001b[0mpredictions_central\u001b[0m\u001b[0;34m)\u001b[0m\u001b[0;34m)\u001b[0m\u001b[0;34m]\u001b[0m\u001b[0;34m)\u001b[0m\u001b[0;34m\u001b[0m\u001b[0;34m\u001b[0m\u001b[0m\n\u001b[0m\u001b[1;32m      2\u001b[0m \u001b[0;34m\u001b[0m\u001b[0m\n\u001b[1;32m      3\u001b[0m \u001b[0mis_local_outlier\u001b[0m \u001b[0;34m=\u001b[0m \u001b[0mnp\u001b[0m\u001b[0;34m.\u001b[0m\u001b[0mlogical_and\u001b[0m\u001b[0;34m(\u001b[0m\u001b[0mlabels_local\u001b[0m\u001b[0;34m,\u001b[0m \u001b[0mnp\u001b[0m\u001b[0;34m.\u001b[0m\u001b[0minvert\u001b[0m\u001b[0;34m(\u001b[0m\u001b[0mlabels_central\u001b[0m\u001b[0;34m)\u001b[0m\u001b[0;34m,\u001b[0m \u001b[0mlabels_local\u001b[0m\u001b[0;34m)\u001b[0m\u001b[0;34m\u001b[0m\u001b[0;34m\u001b[0m\u001b[0m\n\u001b[1;32m      4\u001b[0m \u001b[0mis_global_outlier\u001b[0m \u001b[0;34m=\u001b[0m \u001b[0mnp\u001b[0m\u001b[0;34m.\u001b[0m\u001b[0mlogical_and\u001b[0m\u001b[0;34m(\u001b[0m\u001b[0mlabels_central\u001b[0m\u001b[0;34m,\u001b[0m \u001b[0mnp\u001b[0m\u001b[0;34m.\u001b[0m\u001b[0minvert\u001b[0m\u001b[0;34m(\u001b[0m\u001b[0mlabels_local\u001b[0m\u001b[0;34m)\u001b[0m\u001b[0;34m,\u001b[0m \u001b[0mlabels_central\u001b[0m\u001b[0;34m)\u001b[0m\u001b[0;34m\u001b[0m\u001b[0;34m\u001b[0m\u001b[0m\n\u001b[1;32m      5\u001b[0m \u001b[0;31m# is_local_outlier = np.logical_and(labels_central != labels_local, labels_local)\u001b[0m\u001b[0;34m\u001b[0m\u001b[0;34m\u001b[0m\u001b[0;34m\u001b[0m\u001b[0m\n",
      "\u001b[0;31mNameError\u001b[0m: name 'predictions_central' is not defined"
     ]
    }
   ],
   "source": [
    "x = np.array([i for i in range(len(predictions_central))])\n",
    "\n",
    "is_local_outlier = np.logical_and(labels_local, np.invert(labels_central), labels_local)\n",
    "is_global_outlier = np.logical_and(labels_central, np.invert(labels_local), labels_central)\n",
    "# is_local_outlier = np.logical_and(labels_central != labels_local, labels_local)\n",
    "# is_global_outlier = np.logical_and(labels_central == labels_local, labels_central)\n",
    "\n",
    "plt.subplot(121)\n",
    "\n",
    "x_in = np.random.choice(x[np.invert(labels_local)], np.sum(labels_local)*10, replace=False)\n",
    "sns.scatterplot(x_in, predictions_local[x_in], alpha=0.2, color=\"grey\")\n",
    "sns.scatterplot(x[labels_local], predictions_local[labels_local], alpha=0.4, \n",
    "                color=\"sandybrown\", marker=\"s\")\n",
    "sns.scatterplot(x[labels_local], predictions_local[labels_local], \n",
    "                color=\"indianred\", marker=\"^\")\n",
    "\n",
    "plt.xlabel(\"Index\")\n",
    "plt.ylabel(\"Outlier Score (on-device training)\")\n",
    "\n",
    "ax = plt.subplot(122)\n",
    "\n",
    "x_in = np.random.choice(x[np.invert(labels_local)], np.sum(labels_local)*10, replace=False)\n",
    "sns.scatterplot(x_in, predictions_central[x_in], alpha=0.2, color=\"grey\", label=\"is inlier\")\n",
    "sns.scatterplot(x[labels_local], predictions_central[labels_local], alpha=0.4, color=\"sandybrown\", \n",
    "                label=\"is global outlier\", marker=\"s\")\n",
    "sns.scatterplot(x[labels_local], predictions_central[labels_local], color=\"indianred\", \n",
    "                label=\"is local outlier\", marker=\"^\", alpha=1.0)\n",
    "\n",
    "plt.xlabel(\"Index\")\n",
    "plt.ylabel(\"Outlier Score (centralized training)\")\n",
    "plt.legend()\n",
    "\n",
    "plt.tight_layout()\n",
    "# plt.savefig(os.path.join(os.getcwd(), \"figures\", \"results\", \"eMotor_comparison_local_central_lof.pdf\"))\n",
    "plt.show()"
   ]
  },
  {
   "cell_type": "code",
   "execution_count": null,
   "metadata": {},
   "outputs": [],
   "source": []
  }
 ],
 "metadata": {
  "kernelspec": {
   "display_name": "Python 3",
   "language": "python",
   "name": "python3"
  },
  "language_info": {
   "codemirror_mode": {
    "name": "ipython",
    "version": 3
   },
   "file_extension": ".py",
   "mimetype": "text/x-python",
   "name": "python",
   "nbconvert_exporter": "python",
   "pygments_lexer": "ipython3",
   "version": "3.7.6"
  }
 },
 "nbformat": 4,
 "nbformat_minor": 4
}
