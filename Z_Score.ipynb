{
 "cells": [
  {
   "cell_type": "code",
   "execution_count": 1,
   "metadata": {},
   "outputs": [],
   "source": [
    "import os\n",
    "import math\n",
    "import numpy as np\n",
    "import pandas as pd\n",
    "\n",
    "from sklearn.metrics import roc_curve, auc\n",
    "from scipy import stats\n",
    "\n",
    "from src.utils import parse_filename, normalize\n",
    "\n",
    "import tensorflow as tf\n",
    "from tensorflow.keras.layers import Input, Dense, Flatten\n",
    "from tensorflow.keras.models import Model\n",
    "\n",
    "import matplotlib as mpl\n",
    "from matplotlib import gridspec\n",
    "import matplotlib.pyplot as plt\n",
    "import seaborn as sns\n",
    "mpl.rcParams['text.usetex'] = True\n",
    "mpl.rcParams['text.latex.preamble'] = r'\\usepackage{libertine}'\n",
    "mpl.rc('font', family='serif')"
   ]
  },
  {
   "cell_type": "markdown",
   "metadata": {},
   "source": [
    "## Configuration"
   ]
  },
  {
   "cell_type": "code",
   "execution_count": 2,
   "metadata": {},
   "outputs": [
    {
     "data": {
      "text/plain": [
       "{'num_devices': 100,\n",
       " 'n': 100,\n",
       " 'dims': 100,\n",
       " 'subspace_frac': 0.2,\n",
       " 'frac_outlying_devices': 0.05,\n",
       " 'frac_outlying_data': 0.03,\n",
       " 'gamma': 0.5,\n",
       " 'delta': 0.5}"
      ]
     },
     "execution_count": 2,
     "metadata": {},
     "output_type": "execute_result"
    }
   ],
   "source": [
    "data_name = \"100_100_100_0.2_0.05_0.03_0.5_0.5_d.npy\"\n",
    "out_name = \"100_100_100_0.2_0.05_0.03_0.5_0.5_o.npy\"\n",
    "data = np.load(os.path.join(os.getcwd(), \"data\", \"synth\", data_name))\n",
    "is_outlier = np.load(os.path.join(os.getcwd(), \"data\", \"synth\", out_name))\n",
    "params = parse_filename(data_name)\n",
    "params"
   ]
  },
  {
   "cell_type": "code",
   "execution_count": 3,
   "metadata": {},
   "outputs": [],
   "source": [
    "num_devices = params[\"num_devices\"]\n",
    "dims = params[\"dims\"]\n",
    "num_data = params[\"n\"]\n",
    "subspace_frac = [\"subspace_frac\"]\n",
    "frac_outlying_devices = params[\"frac_outlying_devices\"]\n",
    "frac_outlying_data = params[\"frac_outlying_data\"]\n",
    "\n",
    "T_start = 1\n",
    "T = 9\n",
    "n = int(num_data/(T_start+T))"
   ]
  },
  {
   "cell_type": "code",
   "execution_count": null,
   "metadata": {},
   "outputs": [],
   "source": []
  },
  {
   "cell_type": "markdown",
   "metadata": {},
   "source": [
    "## Model Creation"
   ]
  },
  {
   "cell_type": "code",
   "execution_count": null,
   "metadata": {},
   "outputs": [],
   "source": [
    "\n"
   ]
  },
  {
   "cell_type": "code",
   "execution_count": null,
   "metadata": {},
   "outputs": [],
   "source": []
  },
  {
   "cell_type": "code",
   "execution_count": null,
   "metadata": {},
   "outputs": [],
   "source": []
  },
  {
   "cell_type": "code",
   "execution_count": 45,
   "metadata": {},
   "outputs": [
    {
     "name": "stdout",
     "output_type": "stream",
     "text": [
      "t = 1\n",
      "t = 2\n",
      "t = 3\n",
      "t = 4\n",
      "t = 5\n",
      "t = 6\n",
      "t = 7\n",
      "t = 8\n",
      "t = 9\n"
     ]
    },
    {
     "data": {
      "text/plain": [
       "(100, 90, 100)"
      ]
     },
     "execution_count": 45,
     "metadata": {},
     "output_type": "execute_result"
    }
   ],
   "source": [
    "# LOF Training\n",
    "predictions = np.array([])\n",
    "central_data = np.array([])\n",
    "labels = np.array([])\n",
    "for t in range(T_start, T+1):\n",
    "    print(\"t = {}\".format(t))\n",
    "    start = t*n\n",
    "    end = (t+1)*n\n",
    "    # send data to central server\n",
    "    cdata = data[:, start:end]\n",
    "    prev_shape = cdata.shape\n",
    "    cdata = np.reshape(cdata, newshape=(cdata.shape[0]*cdata.shape[1], cdata.shape[2]))\n",
    "    cout = is_outlier[:, start:end].any(axis=-1).flatten()\n",
    "\n",
    "    # predict\n",
    "    new_predictions = stats.zscore(cdata.T, axis=-1).T\n",
    "    pred_reshape = np.reshape(new_predictions, newshape=prev_shape)\n",
    "    predictions = pred_reshape if t == 1 else np.concatenate((predictions, pred_reshape))\n",
    "    central_data = cdata if not len(central_data) else np.concatenate((central_data, cdata))\n",
    "    labels = cout if not len(labels) else np.concatenate((labels, cout))\n",
    "predictions = np.reshape(predictions, newshape=data[:, n*T_start:].shape)\n",
    "predictions.shape"
   ]
  },
  {
   "cell_type": "code",
   "execution_count": 46,
   "metadata": {},
   "outputs": [
    {
     "name": "stdout",
     "output_type": "stream",
     "text": [
      "(100, 90)\n",
      "(100, 90)\n"
     ]
    },
    {
     "data": {
      "image/png": "[encoded data removed]",
      "text/plain": [
       "<Figure size 432x288 with 1 Axes>"
      ]
     },
     "metadata": {
      "needs_background": "light"
     },
     "output_type": "display_data"
    }
   ],
   "source": [
    "diff = predictions\n",
    "dist = np.linalg.norm(predictions, axis=-1)\n",
    "dist = dist/np.max(dist)\n",
    "\n",
    "labels = is_outlier[:, T_start*n:].any(axis=-1)\n",
    "\n",
    "print(dist.shape)\n",
    "print(labels.shape)\n",
    "\n",
    "# ugly but working\n",
    "io = []\n",
    "nio = []\n",
    "for i, row in enumerate(dist):\n",
    "    for j, val in enumerate(row):\n",
    "        if labels[i][j]:\n",
    "            nio.append([j, val])\n",
    "        else:\n",
    "            io.append([j, val])\n",
    "io = pd.DataFrame(io)\n",
    "nio = pd.DataFrame(nio)\n",
    "\n",
    "sns.lineplot(io[0], io[1], label=\"ok\", ci=\"sd\", err_style=\"band\", alpha=0.3)\n",
    "sns.scatterplot(nio[0], nio[1], label=\"outlier\", color=\"orange\", alpha=0.7)\n",
    "plt.xlabel(\"t\")\n",
    "plt.ylabel(\"outlier score\")\n",
    "plt.legend()\n",
    "plt.show()"
   ]
  },
  {
   "cell_type": "code",
   "execution_count": 29,
   "metadata": {},
   "outputs": [
    {
     "data": {
      "image/png": "[encoded data removed]",
      "text/plain": [
       "<Figure size 720x432 with 1 Axes>"
      ]
     },
     "metadata": {
      "needs_background": "light"
     },
     "output_type": "display_data"
    }
   ],
   "source": [
    "fpr, tpr, thresholds = roc_curve(labels.flatten(), dist.flatten())\n",
    "roc_auc = auc(fpr, tpr)\n",
    "\n",
    "plt.figure(figsize=(10,6))\n",
    "plt.plot(fpr, tpr, color='red', label='AUC = %0.2f)' % roc_auc)\n",
    "plt.xlim((0,1))\n",
    "plt.ylim((0,1))\n",
    "plt.plot([0, 1], [0, 1], color='blue', linestyle='--')\n",
    "plt.xlabel('False Positive Rate')\n",
    "plt.ylabel('True Positive Rate')\n",
    "# plt.title('ROC Autoencoder 100-80-100 ReLU/Sigmoid synth\\_multidim\\_100\\_000')\n",
    "plt.legend(loc=\"lower right\")\n",
    "plt.show()"
   ]
  },
  {
   "cell_type": "code",
   "execution_count": null,
   "metadata": {},
   "outputs": [],
   "source": []
  }
 ],
 "metadata": {
  "kernelspec": {
   "display_name": "Python 3",
   "language": "python",
   "name": "python3"
  },
  "language_info": {
   "codemirror_mode": {
    "name": "ipython",
    "version": 3
   },
   "file_extension": ".py",
   "mimetype": "text/x-python",
   "name": "python",
   "nbconvert_exporter": "python",
   "pygments_lexer": "ipython3",
   "version": "3.7.6"
  }
 },
 "nbformat": 4,
 "nbformat_minor": 4
}
