{
 "cells": [
  {
   "cell_type": "code",
   "execution_count": 1,
   "metadata": {},
   "outputs": [],
   "source": [
    "import os\n",
    "from tqdm import tqdm\n",
    "import math\n",
    "import numpy as np\n",
    "import pandas as pd\n",
    "\n",
    "from sklearn.metrics import roc_curve, auc, average_precision_score, roc_auc_score\n",
    "from scipy import stats\n",
    "\n",
    "from src.utils import parse_filename, normalize, sliding_window\n",
    "\n",
    "import tensorflow as tf\n",
    "from tensorflow.keras.layers import Input, Dense, Flatten\n",
    "from tensorflow.keras.models import Model\n",
    "\n",
    "from xstream.python.Chains import Chains\n",
    "\n",
    "import matplotlib as mpl\n",
    "from matplotlib import gridspec\n",
    "import matplotlib.pyplot as plt\n",
    "import seaborn as sns\n",
    "mpl.rcParams['text.usetex'] = True\n",
    "mpl.rcParams['text.latex.preamble'] = r'\\usepackage{libertine}'\n",
    "mpl.rc('font', family='serif')"
   ]
  },
  {
   "cell_type": "code",
   "execution_count": 2,
   "metadata": {},
   "outputs": [],
   "source": [
    "data_name = \"10_150_100_1.0_0.1_1.0_0.1_0.2_abnormal_d.npy\"\n",
    "out_name = \"10_150_100_1.0_0.1_1.0_0.1_0.2_abnormal_o.npy\"\n",
    "data_abnormal = np.load(os.path.join(os.getcwd(), \"data\", \"synth\", data_name))\n",
    "is_outlier_abnormal = np.load(os.path.join(os.getcwd(), \"data\", \"synth\", out_name))\n",
    "params_abnormal = parse_filename(data_name)"
   ]
  },
  {
   "cell_type": "code",
   "execution_count": 3,
   "metadata": {},
   "outputs": [],
   "source": [
    "data_name = \"10_150_100_1.0_0.1_0.02_0.6_0.2_local_d.npy\"\n",
    "out_name = \"10_150_100_1.0_0.1_0.02_0.6_0.2_local_o.npy\"\n",
    "data_local = np.load(os.path.join(os.getcwd(), \"data\", \"synth\", data_name))\n",
    "is_outlier_local = np.load(os.path.join(os.getcwd(), \"data\", \"synth\", out_name))\n",
    "params_local = parse_filename(data_name)"
   ]
  },
  {
   "cell_type": "code",
   "execution_count": 4,
   "metadata": {},
   "outputs": [],
   "source": [
    "data_name = \"10_150_100_1.0_0.1_0.02_0.1_0.2_global_d.npy\"\n",
    "out_name = \"10_150_100_1.0_0.1_0.02_0.1_0.2_global_o.npy\"\n",
    "data_global = np.load(os.path.join(os.getcwd(), \"data\", \"synth\", data_name))\n",
    "is_outlier_global = np.load(os.path.join(os.getcwd(), \"data\", \"synth\", out_name))\n",
    "params_global = parse_filename(data_name)"
   ]
  },
  {
   "cell_type": "code",
   "execution_count": 6,
   "metadata": {},
   "outputs": [],
   "source": [
    "num_devices = params_global[\"num_devices\"]\n",
    "dims = params_global[\"dims\"]\n",
    "subspace_frac = params_global[\"subspace_frac\"]\n",
    "frac_outlying_devices = params_global[\"frac_outlying_devices\"]\n",
    "frac_outlying_data = params_global[\"frac_outlying_data\"]\n",
    "compression_factor = 0.2\n",
    "num_data = data_global.shape[1]\n",
    "outlier_type = params_global[\"outlier_type\"]"
   ]
  },
  {
   "cell_type": "code",
   "execution_count": 7,
   "metadata": {},
   "outputs": [],
   "source": [
    "k = 50\n",
    "nchains = 50\n",
    "depth = 10"
   ]
  },
  {
   "cell_type": "markdown",
   "metadata": {},
   "source": [
    "## Local xStream"
   ]
  },
  {
   "cell_type": "code",
   "execution_count": 9,
   "metadata": {
    "scrolled": true
   },
   "outputs": [
    {
     "name": "stderr",
     "output_type": "stream",
     "text": [
      "Fitting...: 100%|██████████| 50/50 [00:00<00:00, 62.61it/s]\n",
      "Fitting...: 100%|██████████| 50/50 [00:00<00:00, 66.49it/s]\n",
      "Fitting...: 100%|██████████| 50/50 [00:00<00:00, 61.70it/s]\n",
      "Fitting...: 100%|██████████| 50/50 [00:00<00:00, 61.98it/s]\n",
      "Fitting...: 100%|██████████| 50/50 [00:00<00:00, 61.22it/s]\n",
      "Fitting...: 100%|██████████| 50/50 [00:00<00:00, 62.86it/s]\n",
      "Fitting...: 100%|██████████| 50/50 [00:00<00:00, 60.02it/s]\n",
      "Fitting...: 100%|██████████| 50/50 [00:00<00:00, 60.45it/s]\n",
      "Fitting...: 100%|██████████| 50/50 [00:00<00:00, 61.15it/s]\n",
      "Fitting...: 100%|██████████| 50/50 [00:00<00:00, 63.55it/s]\n",
      "Scoring...: 100%|██████████| 50/50 [00:00<00:00, 72.26it/s]\n",
      "Scoring...: 100%|██████████| 50/50 [00:00<00:00, 70.99it/s]\n",
      "Scoring...: 100%|██████████| 50/50 [00:00<00:00, 67.81it/s]\n",
      "Scoring...: 100%|██████████| 50/50 [00:00<00:00, 71.92it/s]\n",
      "Scoring...: 100%|██████████| 50/50 [00:00<00:00, 69.98it/s]\n",
      "Scoring...: 100%|██████████| 50/50 [00:00<00:00, 72.24it/s]\n",
      "Scoring...: 100%|██████████| 50/50 [00:00<00:00, 70.95it/s]\n",
      "Scoring...: 100%|██████████| 50/50 [00:00<00:00, 71.23it/s]\n",
      "Scoring...: 100%|██████████| 50/50 [00:00<00:00, 69.96it/s]\n",
      "Scoring...: 100%|██████████| 50/50 [00:00<00:00, 69.59it/s]\n"
     ]
    }
   ],
   "source": [
    "models = [Chains(k=k, nchains=nchains, depth=depth) for _ in range(num_devices)]\n",
    "_ = [model.fit(data_local[i]) for i, model in enumerate(models)]\n",
    "predictions_xstream_local_dist = np.array([-model.score(data_local[i]) for i, model in enumerate(models)])"
   ]
  },
  {
   "cell_type": "code",
   "execution_count": 10,
   "metadata": {},
   "outputs": [
    {
     "name": "stderr",
     "output_type": "stream",
     "text": [
      "Fitting...: 100%|██████████| 50/50 [00:00<00:00, 60.46it/s]\n",
      "Fitting...: 100%|██████████| 50/50 [00:00<00:00, 60.39it/s]\n",
      "Fitting...: 100%|██████████| 50/50 [00:00<00:00, 57.95it/s]\n",
      "Fitting...: 100%|██████████| 50/50 [00:00<00:00, 60.43it/s]\n",
      "Fitting...: 100%|██████████| 50/50 [00:00<00:00, 58.27it/s]\n",
      "Fitting...: 100%|██████████| 50/50 [00:00<00:00, 59.61it/s]\n",
      "Fitting...: 100%|██████████| 50/50 [00:00<00:00, 64.20it/s]\n",
      "Fitting...: 100%|██████████| 50/50 [00:00<00:00, 64.16it/s]\n",
      "Fitting...: 100%|██████████| 50/50 [00:00<00:00, 58.12it/s]\n",
      "Fitting...: 100%|██████████| 50/50 [00:00<00:00, 59.58it/s]\n",
      "Scoring...: 100%|██████████| 50/50 [00:00<00:00, 67.06it/s]\n",
      "Scoring...: 100%|██████████| 50/50 [00:00<00:00, 71.02it/s]\n",
      "Scoring...: 100%|██████████| 50/50 [00:00<00:00, 69.53it/s]\n",
      "Scoring...: 100%|██████████| 50/50 [00:00<00:00, 68.29it/s]\n",
      "Scoring...: 100%|██████████| 50/50 [00:00<00:00, 68.89it/s]\n",
      "Scoring...: 100%|██████████| 50/50 [00:00<00:00, 68.28it/s]\n",
      "Scoring...: 100%|██████████| 50/50 [00:00<00:00, 67.39it/s]\n",
      "Scoring...: 100%|██████████| 50/50 [00:00<00:00, 71.82it/s]\n",
      "Scoring...: 100%|██████████| 50/50 [00:00<00:00, 68.92it/s]\n",
      "Scoring...: 100%|██████████| 50/50 [00:00<00:00, 68.60it/s]\n"
     ]
    }
   ],
   "source": [
    "models = [Chains(k=k, nchains=nchains, depth=depth) for _ in range(num_devices)]\n",
    "_ = [model.fit(data_global[i]) for i, model in enumerate(models)]\n",
    "predictions_xstream_global_dist = np.array([-model.score(data_global[i]) for i, model in enumerate(models)])"
   ]
  },
  {
   "cell_type": "code",
   "execution_count": 11,
   "metadata": {},
   "outputs": [
    {
     "name": "stderr",
     "output_type": "stream",
     "text": [
      "Fitting...: 100%|██████████| 50/50 [00:00<00:00, 57.75it/s]\n",
      "Fitting...: 100%|██████████| 50/50 [00:00<00:00, 57.45it/s]\n",
      "Fitting...: 100%|██████████| 50/50 [00:00<00:00, 51.54it/s]\n",
      "Fitting...: 100%|██████████| 50/50 [00:00<00:00, 59.91it/s]\n",
      "Fitting...: 100%|██████████| 50/50 [00:00<00:00, 60.00it/s]\n",
      "Fitting...: 100%|██████████| 50/50 [00:00<00:00, 58.49it/s]\n",
      "Fitting...: 100%|██████████| 50/50 [00:00<00:00, 58.44it/s]\n",
      "Fitting...: 100%|██████████| 50/50 [00:00<00:00, 56.56it/s]\n",
      "Fitting...: 100%|██████████| 50/50 [00:00<00:00, 60.81it/s]\n",
      "Fitting...: 100%|██████████| 50/50 [00:00<00:00, 57.21it/s]\n",
      "Scoring...: 100%|██████████| 50/50 [00:00<00:00, 66.00it/s]\n",
      "Scoring...: 100%|██████████| 50/50 [00:00<00:00, 67.73it/s]\n",
      "Scoring...: 100%|██████████| 50/50 [00:00<00:00, 67.96it/s]\n",
      "Scoring...: 100%|██████████| 50/50 [00:00<00:00, 69.58it/s]\n",
      "Scoring...: 100%|██████████| 50/50 [00:00<00:00, 68.26it/s]\n",
      "Scoring...: 100%|██████████| 50/50 [00:00<00:00, 68.72it/s]\n",
      "Scoring...: 100%|██████████| 50/50 [00:00<00:00, 65.31it/s]\n",
      "Scoring...: 100%|██████████| 50/50 [00:00<00:00, 67.14it/s]\n",
      "Scoring...: 100%|██████████| 50/50 [00:00<00:00, 69.23it/s]\n",
      "Scoring...: 100%|██████████| 50/50 [00:00<00:00, 70.03it/s]\n"
     ]
    }
   ],
   "source": [
    "models = [Chains(k=k, nchains=nchains, depth=depth) for _ in range(num_devices)]\n",
    "_ = [model.fit(data_abnormal[i]) for i, model in enumerate(models)]\n",
    "predictions_xstream_abnormal_dist = np.array([-model.score(data_abnormal[i]) for i, model in enumerate(models)])"
   ]
  },
  {
   "cell_type": "markdown",
   "metadata": {},
   "source": [
    "## Central xStream"
   ]
  },
  {
   "cell_type": "code",
   "execution_count": 12,
   "metadata": {},
   "outputs": [
    {
     "name": "stderr",
     "output_type": "stream",
     "text": [
      "Fitting...: 100%|██████████| 50/50 [00:07<00:00,  6.72it/s]\n",
      "Scoring...: 100%|██████████| 50/50 [00:06<00:00,  7.81it/s]\n"
     ]
    }
   ],
   "source": [
    "oldshape = data_global.shape\n",
    "data_global = np.reshape(data_global, newshape=(data_global.shape[0]*data_global.shape[1], data_global.shape[2]))\n",
    "cf = Chains(k=k, nchains=nchains, depth=depth)\n",
    "cf.fit(data_global)\n",
    "predictions_xstream_global_central = -cf.score(data_global)\n",
    "predictions_xstream_global_central = np.reshape(predictions_xstream_global_central, newshape=(oldshape[0], oldshape[1]))\n",
    "data_global = np.reshape(data_global, newshape=oldshape)"
   ]
  },
  {
   "cell_type": "code",
   "execution_count": 13,
   "metadata": {},
   "outputs": [
    {
     "name": "stderr",
     "output_type": "stream",
     "text": [
      "Fitting...: 100%|██████████| 50/50 [00:07<00:00,  6.80it/s]\n",
      "Scoring...: 100%|██████████| 50/50 [00:06<00:00,  7.82it/s]\n"
     ]
    }
   ],
   "source": [
    "data_local = np.reshape(data_local, newshape=(data_local.shape[0]*data_local.shape[1], data_local.shape[2]))\n",
    "cf = Chains(k=k, nchains=nchains, depth=depth)\n",
    "cf.fit(data_local)\n",
    "predictions_xstream_local_central = -cf.score(data_local)\n",
    "predictions_xstream_local_central = np.reshape(predictions_xstream_local_central, newshape=(oldshape[0], oldshape[1]))\n",
    "data_local = np.reshape(data_local, newshape=oldshape)"
   ]
  },
  {
   "cell_type": "code",
   "execution_count": 14,
   "metadata": {},
   "outputs": [
    {
     "name": "stderr",
     "output_type": "stream",
     "text": [
      "Fitting...: 100%|██████████| 50/50 [00:07<00:00,  6.65it/s]\n",
      "Scoring...: 100%|██████████| 50/50 [00:06<00:00,  7.65it/s]\n"
     ]
    }
   ],
   "source": [
    "data_abnormal = np.reshape(data_abnormal, newshape=(data_abnormal.shape[0]*data_abnormal.shape[1], data_abnormal.shape[2]))\n",
    "cf = Chains(k=k, nchains=nchains, depth=depth)\n",
    "cf.fit(data_abnormal)\n",
    "predictions_xstream_abnormal_central = -cf.score(data_abnormal)\n",
    "predictions_xstream_abnormal_central = np.reshape(predictions_xstream_abnormal_central, newshape=(oldshape[0], oldshape[1]))\n",
    "data_abnormal = np.reshape(data_abnormal, newshape=oldshape)"
   ]
  },
  {
   "cell_type": "code",
   "execution_count": null,
   "metadata": {},
   "outputs": [],
   "source": []
  },
  {
   "cell_type": "code",
   "execution_count": null,
   "metadata": {},
   "outputs": [],
   "source": []
  },
  {
   "cell_type": "code",
   "execution_count": null,
   "metadata": {},
   "outputs": [],
   "source": []
  },
  {
   "cell_type": "code",
   "execution_count": null,
   "metadata": {},
   "outputs": [],
   "source": []
  },
  {
   "cell_type": "code",
   "execution_count": 75,
   "metadata": {},
   "outputs": [],
   "source": [
    "def histogram_from_outlier_scores(scores, labels, ax):\n",
    "    # ugly but working\n",
    "    io = []\n",
    "    nio = []\n",
    "    for i, row in enumerate(scores):\n",
    "        for j, val in enumerate(row):\n",
    "            if labels[i][j]:\n",
    "                nio.append([j, val])\n",
    "            else:\n",
    "                io.append([j, val])\n",
    "    io = pd.DataFrame(io)\n",
    "    nio = pd.DataFrame(nio)\n",
    "\n",
    "    # sns.scatterplot(io[0], io[1], label=\"ok\")\n",
    "    sns.distplot(io[1], hist=False, rug=False, label=\"is normal\", ax=ax)\n",
    "    sns.distplot(nio[1], hist=False, rug=False, label=\"is an outlier\", ax=ax)\n",
    "    # sns.scatterplot(nio[0], nio[1], label=\"outlier\", color=\"orange\", alpha=0.7)"
   ]
  },
  {
   "cell_type": "code",
   "execution_count": 76,
   "metadata": {},
   "outputs": [
    {
     "data": {
      "image/png": "[encoded data removed]",
      "text/plain": [
       "<Figure size 432x288 with 6 Axes>"
      ]
     },
     "metadata": {
      "needs_background": "light"
     },
     "output_type": "display_data"
    }
   ],
   "source": [
    "f, axes = plt.subplots(nrows=3, ncols=2, sharex=\"none\", sharey=\"none\")\n",
    "labels = is_outlier_global.any(axis=-1)\n",
    "histogram_from_outlier_scores(predictions_xstream_global_dist, labels, ax=axes[0][0])\n",
    "histogram_from_outlier_scores(predictions_xstream_global_central, labels, ax=axes[0][1])\n",
    "labels = is_outlier_local.any(axis=-1)\n",
    "histogram_from_outlier_scores(predictions_xstream_local_dist, labels, ax=axes[1][0])\n",
    "histogram_from_outlier_scores(predictions_xstream_local_central, labels, ax=axes[1][1])\n",
    "labels = is_outlier_abnormal.any(axis=-1)\n",
    "histogram_from_outlier_scores(predictions_xstream_abnormal_dist, labels, ax=axes[2][0])\n",
    "histogram_from_outlier_scores(predictions_xstream_abnormal_central, labels, ax=axes[2][1])\n",
    "\n",
    "for ax in axes[0]:\n",
    "    ax.set(ylabel=\"KDE (go)\")\n",
    "    \n",
    "for ax in axes[1]:\n",
    "    ax.set(ylabel=\"KDE (lo)\")\n",
    "    \n",
    "for ax in axes[2]:\n",
    "    ax.set(ylabel=\"KDE (ad)\")\n",
    "    \n",
    "for ax in axes[:, 0]:\n",
    "    ax.set(xlabel=\"Outlier Score (central training)\")\n",
    "\n",
    "for ax in axes[:, 1]:\n",
    "    ax.set(xlabel=\"Outlier Score (on-device training)\")\n",
    "    \n",
    "for ax in axes.flat:\n",
    "    ax.label_outer()\n",
    "    ax.xaxis.set_tick_params(labelbottom=True)\n",
    "    ax.yaxis.set_tick_params(labelbottom=True)\n",
    "    \n",
    "for ax in axes.flat:\n",
    "    ax.get_legend().remove()\n",
    "    \n",
    "axes[1][0].legend()\n",
    "\n",
    "plt.tight_layout()\n",
    "plt.savefig(os.path.join(os.getcwd(), \"figures\", \"results\", \"comparison_outliers_xstream.pdf\"))"
   ]
  },
  {
   "cell_type": "code",
   "execution_count": null,
   "metadata": {},
   "outputs": [],
   "source": []
  }
 ],
 "metadata": {
  "kernelspec": {
   "display_name": "Python 3",
   "language": "python",
   "name": "python3"
  },
  "language_info": {
   "codemirror_mode": {
    "name": "ipython",
    "version": 3
   },
   "file_extension": ".py",
   "mimetype": "text/x-python",
   "name": "python",
   "nbconvert_exporter": "python",
   "pygments_lexer": "ipython3",
   "version": "3.7.6"
  }
 },
 "nbformat": 4,
 "nbformat_minor": 4
}
