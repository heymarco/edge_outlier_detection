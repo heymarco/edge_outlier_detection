{
 "cells": [
  {
   "cell_type": "code",
   "execution_count": 1,
   "metadata": {},
   "outputs": [],
   "source": [
    "import os\n",
    "from tqdm import tqdm\n",
    "import math\n",
    "import numpy as np\n",
    "import pandas as pd\n",
    "\n",
    "from sklearn.metrics import roc_curve, auc, average_precision_score, roc_auc_score\n",
    "from scipy import stats\n",
    "\n",
    "from src.utils import parse_filename, normalize, sliding_window\n",
    "\n",
    "import tensorflow as tf\n",
    "from tensorflow.keras.layers import Input, Dense, Flatten\n",
    "from tensorflow.keras.models import Model\n",
    "\n",
    "from xstream.python.Chains import Chains\n",
    "\n",
    "import matplotlib as mpl\n",
    "from matplotlib import gridspec\n",
    "import matplotlib.pyplot as plt\n",
    "import seaborn as sns\n",
    "mpl.rcParams['text.usetex'] = True\n",
    "mpl.rcParams['text.latex.preamble'] = r'\\usepackage{libertine}'\n",
    "mpl.rc('font', family='serif')"
   ]
  },
  {
   "cell_type": "code",
   "execution_count": null,
   "metadata": {},
   "outputs": [],
   "source": []
  },
  {
   "cell_type": "code",
   "execution_count": 2,
   "metadata": {},
   "outputs": [
    {
     "name": "stdout",
     "output_type": "stream",
     "text": [
      "Executing on synth data\n"
     ]
    }
   ],
   "source": [
    "data_name = \"synth\"\n",
    "\n",
    "if data_name == \"xdk\" or data_name == \"MHEALTHDATASET\" or \"pmsm_temperature_data\":\n",
    "    data = []\n",
    "    directory = os.path.join(os.getcwd(), \"data\", data_name)\n",
    "    for root, dirs, files in os.walk(directory):\n",
    "        for file in files:\n",
    "            if file.endswith(\".csv\"):\n",
    "                print(\"Read {}\".format(file))\n",
    "                data.append(np.loadtxt(os.path.join(directory, file), skiprows=1, delimiter=\",\"))\n",
    "    data = np.array(data)\n",
    "if data_name == \"synth\":\n",
    "    data = np.load(os.path.join(os.getcwd(), \"data\", \"synth\", \"10_10000_100_0.2_0.2_0.01_0.4_0.2_local_d.npy\"))\n",
    "    \n",
    "print(\"Executing on {} data\".format(data_name))"
   ]
  },
  {
   "cell_type": "code",
   "execution_count": null,
   "metadata": {},
   "outputs": [],
   "source": []
  },
  {
   "cell_type": "code",
   "execution_count": 3,
   "metadata": {},
   "outputs": [],
   "source": [
    "min_length = min([len(d) for d in data])\n",
    "max_length = 10000\n",
    "indices = np.random.choice(np.arange(min_length), min(min_length, max_length))\n",
    "trimmed_data = np.array([d[indices] for d in data])"
   ]
  },
  {
   "cell_type": "code",
   "execution_count": 4,
   "metadata": {},
   "outputs": [
    {
     "data": {
      "text/plain": [
       "99.0"
      ]
     },
     "execution_count": 4,
     "metadata": {},
     "output_type": "execute_result"
    }
   ],
   "source": [
    "contamination = 0.01\n",
    "percentile = (1-contamination)*100\n",
    "percentile"
   ]
  },
  {
   "cell_type": "code",
   "execution_count": 5,
   "metadata": {},
   "outputs": [],
   "source": [
    "k = 50\n",
    "nchains = 50\n",
    "depth = 10"
   ]
  },
  {
   "cell_type": "code",
   "execution_count": 6,
   "metadata": {},
   "outputs": [
    {
     "name": "stderr",
     "output_type": "stream",
     "text": [
      "Fitting...: 100%|██████████| 50/50 [08:44<00:00, 10.50s/it]\n",
      "Scoring...: 100%|██████████| 50/50 [07:08<00:00,  8.57s/it]\n"
     ]
    }
   ],
   "source": [
    "oldshape = trimmed_data.shape\n",
    "trimmed_data = np.reshape(trimmed_data, newshape=(trimmed_data.shape[0]*trimmed_data.shape[1], trimmed_data.shape[2]))\n",
    "cf = Chains(k=k, nchains=nchains, depth=depth)\n",
    "cf.fit(trimmed_data)\n",
    "predictions = -cf.score(trimmed_data)\n",
    "predictions = np.reshape(predictions, newshape=(oldshape[0], oldshape[1]))\n",
    "trimmed_data = np.reshape(trimmed_data, newshape=oldshape)"
   ]
  },
  {
   "cell_type": "code",
   "execution_count": 7,
   "metadata": {},
   "outputs": [],
   "source": [
    "predictions_global = predictions.flatten()"
   ]
  },
  {
   "cell_type": "code",
   "execution_count": 8,
   "metadata": {},
   "outputs": [
    {
     "data": {
      "text/plain": [
       "(10, 10000)"
      ]
     },
     "execution_count": 8,
     "metadata": {},
     "output_type": "execute_result"
    }
   ],
   "source": [
    "predictions.shape"
   ]
  },
  {
   "cell_type": "code",
   "execution_count": null,
   "metadata": {},
   "outputs": [],
   "source": []
  },
  {
   "cell_type": "code",
   "execution_count": null,
   "metadata": {},
   "outputs": [],
   "source": []
  },
  {
   "cell_type": "code",
   "execution_count": 9,
   "metadata": {},
   "outputs": [
    {
     "name": "stderr",
     "output_type": "stream",
     "text": [
      "Fitting...: 100%|██████████| 50/50 [00:51<00:00,  1.04s/it]\n",
      "Fitting...: 100%|██████████| 50/50 [00:48<00:00,  1.03it/s]\n",
      "Fitting...: 100%|██████████| 50/50 [00:47<00:00,  1.06it/s]\n",
      "Fitting...: 100%|██████████| 50/50 [00:47<00:00,  1.06it/s]\n",
      "Fitting...: 100%|██████████| 50/50 [00:46<00:00,  1.07it/s]\n",
      "Fitting...: 100%|██████████| 50/50 [00:44<00:00,  1.12it/s]\n",
      "Fitting...: 100%|██████████| 50/50 [00:45<00:00,  1.09it/s]\n",
      "Fitting...: 100%|██████████| 50/50 [00:48<00:00,  1.02it/s]\n",
      "Fitting...: 100%|██████████| 50/50 [00:48<00:00,  1.03it/s]\n",
      "Fitting...: 100%|██████████| 50/50 [00:51<00:00,  1.02s/it]\n",
      "Scoring...: 100%|██████████| 50/50 [00:41<00:00,  1.21it/s]\n",
      "Scoring...: 100%|██████████| 50/50 [00:40<00:00,  1.22it/s]\n",
      "Scoring...: 100%|██████████| 50/50 [00:38<00:00,  1.29it/s]\n",
      "Scoring...: 100%|██████████| 50/50 [00:40<00:00,  1.24it/s]\n",
      "Scoring...: 100%|██████████| 50/50 [00:40<00:00,  1.23it/s]\n",
      "Scoring...: 100%|██████████| 50/50 [00:40<00:00,  1.23it/s]\n",
      "Scoring...: 100%|██████████| 50/50 [00:41<00:00,  1.20it/s]\n",
      "Scoring...: 100%|██████████| 50/50 [00:39<00:00,  1.26it/s]\n",
      "Scoring...: 100%|██████████| 50/50 [00:40<00:00,  1.25it/s]\n",
      "Scoring...: 100%|██████████| 50/50 [00:41<00:00,  1.21it/s]\n"
     ]
    }
   ],
   "source": [
    "models = [Chains(k=k, nchains=nchains, depth=depth) for _ in range(len(data))]\n",
    "_ = [model.fit(trimmed_data[i]) for i, model in enumerate(models)]\n",
    "predictions_local = np.array([-model.score(trimmed_data[i]) for i, model in enumerate(models)])"
   ]
  },
  {
   "cell_type": "code",
   "execution_count": 10,
   "metadata": {},
   "outputs": [],
   "source": [
    "predictions_local = np.reshape(predictions_local, newshape=(trimmed_data.shape[0], trimmed_data.shape[1]))"
   ]
  },
  {
   "cell_type": "code",
   "execution_count": 11,
   "metadata": {},
   "outputs": [],
   "source": [
    "result_local = predictions_local\n",
    "result_global = predictions_global"
   ]
  },
  {
   "cell_type": "code",
   "execution_count": null,
   "metadata": {},
   "outputs": [],
   "source": []
  },
  {
   "cell_type": "code",
   "execution_count": 12,
   "metadata": {},
   "outputs": [
    {
     "data": {
      "text/plain": [
       "(10, 10000)"
      ]
     },
     "execution_count": 12,
     "metadata": {},
     "output_type": "execute_result"
    }
   ],
   "source": [
    "outlier_thresh_local = np.percentile(result_local, percentile, axis=1, keepdims=True)\n",
    "outlier_thresh_local = np.repeat(outlier_thresh_local, result_local.shape[-1], axis=-1)\n",
    "labels_local = (result_local > outlier_thresh_local).flatten()\n",
    "outlier_thresh_local.shape"
   ]
  },
  {
   "cell_type": "code",
   "execution_count": 13,
   "metadata": {},
   "outputs": [
    {
     "data": {
      "text/plain": [
       "999"
      ]
     },
     "execution_count": 13,
     "metadata": {},
     "output_type": "execute_result"
    }
   ],
   "source": [
    "outlier_thresh_global = np.percentile(result_global, q=percentile)\n",
    "labels_global = (result_global > outlier_thresh_global).flatten()\n",
    "np.sum(labels_global)"
   ]
  },
  {
   "cell_type": "code",
   "execution_count": 14,
   "metadata": {},
   "outputs": [
    {
     "name": "stdout",
     "output_type": "stream",
     "text": [
      "The fraction of local outliers for synth is 0.7695390781563126\n"
     ]
    }
   ],
   "source": [
    "print(\"The fraction of local outliers for {} is {}\".format(\n",
    "    data_name, \n",
    "    1 - np.sum(np.logical_and(labels_global.flatten(), labels_local))/np.sum(labels_local)\n",
    "))"
   ]
  },
  {
   "cell_type": "code",
   "execution_count": 15,
   "metadata": {},
   "outputs": [
    {
     "data": {
      "text/plain": [
       "Text(0.5, 0, 'Outlier scores by $C$')"
      ]
     },
     "execution_count": 15,
     "metadata": {},
     "output_type": "execute_result"
    },
    {
     "data": {
      "image/png": "[encoded data removed]",
      "text/plain": [
       "<Figure size 432x288 with 2 Axes>"
      ]
     },
     "metadata": {
      "needs_background": "light"
     },
     "output_type": "display_data"
    }
   ],
   "source": [
    "fig, axes = plt.subplots(1, 2, sharey=True)\n",
    "\n",
    "result_local = np.reshape(result_local, newshape=(oldshape[0]*oldshape[1]))\n",
    "result_global = np.reshape(result_global, newshape=(oldshape[0]*oldshape[1]))\n",
    "\n",
    "ax = axes[0]\n",
    "sns.distplot(result_local[np.invert(labels_local.flatten())], \n",
    "             hist=True, rug=False, kde=False, \n",
    "             rug_kws={\"alpha\": 0.3}, norm_hist=True, \n",
    "             ax=ax)\n",
    "\n",
    "sns.distplot(result_local[labels_local.flatten()], \n",
    "             hist=True, rug=False, kde=False, \n",
    "             rug_kws={\"alpha\": 0.5}, norm_hist=True, \n",
    "             ax=ax)\n",
    "\n",
    "# ax.set_xlim((0, 7))\n",
    "ax.set_xlabel(\"Outlier scores by $L$\")\n",
    "\n",
    "ax = axes[1]\n",
    "\n",
    "sns.distplot(result_global[np.invert(labels_local.flatten())], \n",
    "             hist=True, rug=False, kde=False, norm_hist=True, \n",
    "             rug_kws={\"alpha\": 0.3}, label=\"Outlier not identified by $L$\", \n",
    "             ax=ax)\n",
    "\n",
    "sns.distplot(result_global[labels_local.flatten()], \n",
    "             hist=True, rug=False, kde=False, \n",
    "             rug_kws={\"alpha\": 0.5}, norm_hist=True, \n",
    "             label=\"Outlier identified by $L$\", \n",
    "             ax=ax)\n",
    "\n",
    "\n",
    "# ax.set_xlim((0, 7))\n",
    "plt.legend(bbox_to_anchor=(1.2, 1), loc=2, borderaxespad=0.)\n",
    "\n",
    "ax.set_xlabel(\"Outlier scores by $C$\")\n",
    "# plt.tight_layout()"
   ]
  },
  {
   "cell_type": "code",
   "execution_count": 16,
   "metadata": {},
   "outputs": [],
   "source": [
    "result_local = np.reshape(result_local, newshape=result_global.shape)"
   ]
  },
  {
   "cell_type": "code",
   "execution_count": 17,
   "metadata": {},
   "outputs": [
    {
     "data": {
      "image/png": "[encoded data removed]",
      "text/plain": [
       "<Figure size 432x288 with 2 Axes>"
      ]
     },
     "metadata": {
      "needs_background": "light"
     },
     "output_type": "display_data"
    }
   ],
   "source": [
    "x = np.array([i for i in range(len(result_global))])\n",
    "\n",
    "# labels_local and not labels_global\n",
    "is_local_outlier = np.logical_and(labels_local, result_global < np.percentile(result_global, percentile))\n",
    "is_global_outlier = np.logical_and(np.invert(is_local_outlier), labels_local)\n",
    "\n",
    "plt.subplot(121)\n",
    "\n",
    "sns.lineplot(x, outlier_thresh_local.flatten(), \n",
    "                 alpha=1, color=\"lightgrey\")\n",
    "sns.scatterplot(x[is_global_outlier], result_local[is_global_outlier], \n",
    "                alpha=1.0, marker=\"x\")\n",
    "sns.scatterplot(x[is_local_outlier], result_local[is_local_outlier], \n",
    "                color=\"indianred\")\n",
    "\n",
    "plt.xlabel(\"Index\")\n",
    "plt.ylabel(\"Outlier Score (on-device training)\")\n",
    "\n",
    "ax = plt.subplot(122)\n",
    "\n",
    "sns.lineplot(x, outlier_thresh_global, \n",
    "                 alpha=1, color=\"lightgrey\", label=\"Threshold ({}th percentile)\".format(percentile))\n",
    "sns.scatterplot(x[is_global_outlier], result_global[is_global_outlier], \n",
    "                alpha=1.0, marker=\"x\", label=\"Global outlier\")\n",
    "sns.scatterplot(x[is_local_outlier], result_global[is_local_outlier], \n",
    "                color=\"indianred\", alpha=1.0, label=\"Local outlier\")\n",
    "\n",
    "plt.legend(loc=\"upper right\")\n",
    "plt.xlabel(\"Index\")\n",
    "plt.ylabel(\"Outlier Score (centralized training)\")\n",
    "\n",
    "plt.tight_layout()\n",
    "plt.savefig(os.path.join(os.getcwd(), \"figures\", \"results\", \"emotor_comparison_local_central_xstream.pdf\"))\n",
    "plt.show()"
   ]
  },
  {
   "cell_type": "code",
   "execution_count": null,
   "metadata": {},
   "outputs": [],
   "source": []
  },
  {
   "cell_type": "code",
   "execution_count": null,
   "metadata": {},
   "outputs": [],
   "source": []
  }
 ],
 "metadata": {
  "kernelspec": {
   "display_name": "Python 3",
   "language": "python",
   "name": "python3"
  },
  "language_info": {
   "codemirror_mode": {
    "name": "ipython",
    "version": 3
   },
   "file_extension": ".py",
   "mimetype": "text/x-python",
   "name": "python",
   "nbconvert_exporter": "python",
   "pygments_lexer": "ipython3",
   "version": "3.7.6"
  }
 },
 "nbformat": 4,
 "nbformat_minor": 4
}
