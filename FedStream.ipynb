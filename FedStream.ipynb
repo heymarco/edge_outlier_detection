{
 "cells": [
  {
   "cell_type": "code",
   "execution_count": 1,
   "metadata": {},
   "outputs": [],
   "source": [
    "import os\n",
    "import math\n",
    "from tqdm import tqdm\n",
    "import numpy as np\n",
    "import pandas as pd\n",
    "from sklearn.metrics import roc_curve, auc\n",
    "\n",
    "from src.experiment import train_federated, train_separated, create_models\n",
    "from src.pipelines import dataset_drift, dataset_outliers, dataset_hidden_outliers\n",
    "from src.utils import parse_filename, normalize, sliding_window\n",
    "\n",
    "import tensorflow as tf\n",
    "from tensorflow.keras.layers import Input, Dense, Flatten\n",
    "from tensorflow.keras.models import Model\n",
    "\n",
    "import matplotlib as mpl\n",
    "from matplotlib import gridspec\n",
    "import matplotlib.pyplot as plt\n",
    "import seaborn as sns\n",
    "mpl.rcParams['text.usetex'] = True\n",
    "mpl.rcParams['text.latex.preamble'] = r'\\usepackage{libertine}'\n",
    "mpl.rc('font', family='serif')"
   ]
  },
  {
   "cell_type": "code",
   "execution_count": 2,
   "metadata": {},
   "outputs": [],
   "source": [
    "data_name = \"10_150_100_0.2_1_0.02_0.6_0.2_local_d.npy\"\n",
    "out_name = \"10_150_100_0.2_1_0.02_0.6_0.2_local_o.npy\"\n",
    "data = np.load(os.path.join(os.getcwd(), \"data\", \"synth\", data_name))\n",
    "data = normalize(data)\n",
    "is_outlier = np.load(os.path.join(os.getcwd(), \"data\", \"synth\", out_name))\n",
    "params = parse_filename(data_name)"
   ]
  },
  {
   "cell_type": "code",
   "execution_count": 3,
   "metadata": {},
   "outputs": [],
   "source": [
    "num_devices = params[\"num_devices\"]\n",
    "dims = params[\"dims\"]\n",
    "subspace_frac = [\"subspace_frac\"]\n",
    "frac_outlying_devices = params[\"frac_outlying_devices\"]\n",
    "frac_outlying_data = params[\"frac_outlying_data\"]\n",
    "compression_factor = 0.2\n",
    "num_data = data.shape[1]\n",
    "outlier_type = params[\"outlier_type\"]\n",
    "\n",
    "window_size = 10\n",
    "T = data.shape[1]\n",
    "T_pretraining = 50"
   ]
  },
  {
   "cell_type": "code",
   "execution_count": 4,
   "metadata": {},
   "outputs": [],
   "source": [
    "# TRAINING CONFIG\n",
    "frac_available = 1.0\n",
    "batch_size = window_size\n",
    "epochs = 1\n",
    "\n",
    "client_ids = np.arange(num_devices)\n",
    "models_fed = create_models(num_devices, dims, compression_factor)\n",
    "models_sep = create_models(num_devices, dims, compression_factor)"
   ]
  },
  {
   "cell_type": "code",
   "execution_count": 5,
   "metadata": {},
   "outputs": [
    {
     "name": "stderr",
     "output_type": "stream",
     "text": [
      "\r",
      "  0%|          | 0/40 [00:00<?, ?it/s]"
     ]
    },
    {
     "name": "stdout",
     "output_type": "stream",
     "text": [
      "PRE TRAINING\n"
     ]
    },
    {
     "name": "stderr",
     "output_type": "stream",
     "text": [
      "100%|██████████| 40/40 [06:43<00:00, 10.10s/it]\n"
     ]
    }
   ],
   "source": [
    "print(\"PRE TRAINING\")\n",
    "for t in tqdm(range(window_size, T_pretraining)):\n",
    "    window_data = data[:, sliding_window(t, window_size)]\n",
    "    models_fed = train_federated(models_fed, \n",
    "                                 window_data, \n",
    "                                 epochs=1, batch_size=batch_size, \n",
    "                                 frac_available=frac_available)\n",
    "    models_sep = train_separated(models_sep, \n",
    "                                 window_data, \n",
    "                                 epochs=1, batch_size=batch_size)"
   ]
  },
  {
   "cell_type": "code",
   "execution_count": 6,
   "metadata": {},
   "outputs": [
    {
     "name": "stderr",
     "output_type": "stream",
     "text": [
      "\r",
      "  0%|          | 0/100 [00:00<?, ?it/s]"
     ]
    },
    {
     "name": "stdout",
     "output_type": "stream",
     "text": [
      "START MONITORING\n"
     ]
    },
    {
     "name": "stderr",
     "output_type": "stream",
     "text": [
      "100%|██████████| 100/100 [24:47<00:00, 14.87s/it]\n"
     ]
    }
   ],
   "source": [
    "print(\"START MONITORING\")\n",
    "predictions_fed = np.array([])\n",
    "predictions_sep = np.array([])\n",
    "start = T_pretraining\n",
    "end = T\n",
    "for t in tqdm(np.arange(start, end)):\n",
    "    # move sliding window\n",
    "    window_data = data[:, sliding_window(t, window_size)]\n",
    "    # get the new observation from the data\n",
    "    new_observations = window_data[:, -1:]\n",
    "    # check new observation\n",
    "    new_predictions_fed = np.array([model.predict(new_observations[i]) for i, model in enumerate(models_fed)])\n",
    "    new_predictions_sep = np.array([model.predict(new_observations[i]) for i, model in enumerate(models_sep)])\n",
    "    predictions_fed = new_predictions_fed if t == start else np.concatenate((predictions_fed, new_predictions_fed), axis=1)\n",
    "    predictions_sep = new_predictions_sep if t == start else np.concatenate((predictions_sep, new_predictions_sep), axis=1)\n",
    "    # train models on slinding window\n",
    "    models_fed = train_federated(models_fed, \n",
    "                                 window_data, \n",
    "                                 epochs=1, batch_size=batch_size, \n",
    "                                 frac_available=frac_available)\n",
    "    models_sep = train_separated(models_sep, \n",
    "                                 window_data, \n",
    "                                 epochs=1, batch_size=batch_size)"
   ]
  },
  {
   "cell_type": "code",
   "execution_count": 7,
   "metadata": {},
   "outputs": [
    {
     "ename": "NameError",
     "evalue": "name 'predictions' is not defined",
     "output_type": "error",
     "traceback": [
      "\u001b[0;31m---------------------------------------------------------------------------\u001b[0m",
      "\u001b[0;31mNameError\u001b[0m                                 Traceback (most recent call last)",
      "\u001b[0;32m<ipython-input-7-8f07001eb468>\u001b[0m in \u001b[0;36m<module>\u001b[0;34m\u001b[0m\n\u001b[1;32m      5\u001b[0m     \u001b[0mtest\u001b[0m \u001b[0;34m=\u001b[0m \u001b[0mdata\u001b[0m\u001b[0;34m[\u001b[0m\u001b[0mi\u001b[0m\u001b[0;34m]\u001b[0m\u001b[0;34m[\u001b[0m\u001b[0;34m-\u001b[0m\u001b[0;36m1\u001b[0m\u001b[0;34m]\u001b[0m\u001b[0;34m.\u001b[0m\u001b[0mreshape\u001b[0m\u001b[0;34m(\u001b[0m\u001b[0mm\u001b[0m\u001b[0;34m,\u001b[0m \u001b[0mm\u001b[0m\u001b[0;34m)\u001b[0m\u001b[0;34m\u001b[0m\u001b[0;34m\u001b[0m\u001b[0m\n\u001b[1;32m      6\u001b[0m     \u001b[0mout\u001b[0m \u001b[0;34m=\u001b[0m \u001b[0mis_outlier\u001b[0m\u001b[0;34m[\u001b[0m\u001b[0mi\u001b[0m\u001b[0;34m]\u001b[0m\u001b[0;34m[\u001b[0m\u001b[0;34m-\u001b[0m\u001b[0;36m1\u001b[0m\u001b[0;34m]\u001b[0m\u001b[0;34m.\u001b[0m\u001b[0mreshape\u001b[0m\u001b[0;34m(\u001b[0m\u001b[0mm\u001b[0m\u001b[0;34m,\u001b[0m \u001b[0mm\u001b[0m\u001b[0;34m)\u001b[0m\u001b[0;34m\u001b[0m\u001b[0;34m\u001b[0m\u001b[0m\n\u001b[0;32m----> 7\u001b[0;31m     \u001b[0mprediction\u001b[0m \u001b[0;34m=\u001b[0m \u001b[0mpredictions\u001b[0m\u001b[0;34m[\u001b[0m\u001b[0mi\u001b[0m\u001b[0;34m]\u001b[0m\u001b[0;34m[\u001b[0m\u001b[0;36m0\u001b[0m\u001b[0;34m]\u001b[0m\u001b[0;34m.\u001b[0m\u001b[0mreshape\u001b[0m\u001b[0;34m(\u001b[0m\u001b[0mm\u001b[0m\u001b[0;34m,\u001b[0m \u001b[0mm\u001b[0m\u001b[0;34m)\u001b[0m\u001b[0;34m\u001b[0m\u001b[0;34m\u001b[0m\u001b[0m\n\u001b[0m\u001b[1;32m      8\u001b[0m \u001b[0;34m\u001b[0m\u001b[0m\n\u001b[1;32m      9\u001b[0m     \u001b[0;31m# display original\u001b[0m\u001b[0;34m\u001b[0m\u001b[0;34m\u001b[0m\u001b[0;34m\u001b[0m\u001b[0m\n",
      "\u001b[0;31mNameError\u001b[0m: name 'predictions' is not defined"
     ]
    },
    {
     "data": {
      "text/plain": [
       "<Figure size 1440x360 with 0 Axes>"
      ]
     },
     "metadata": {},
     "output_type": "display_data"
    }
   ],
   "source": [
    "n = 10  # how many digits we will display\n",
    "fig = plt.figure(figsize=(20, 5))\n",
    "for i in range(n):\n",
    "    m = int(math.sqrt(dims))\n",
    "    test = data[i][-1].reshape(m, m)\n",
    "    out = is_outlier[i][-1].reshape(m, m)\n",
    "    prediction = predictions[i][0].reshape(m, m)\n",
    "\n",
    "    # display original\n",
    "    ax = plt.subplot(4, n, i + 1)\n",
    "    plt.imshow(test, cmap=\"Blues\")\n",
    "    ax.get_xaxis().set_visible(False)\n",
    "    ax.set_title(\"Device {}\".format(i))\n",
    "    if i == 0:\n",
    "        ax.set_ylabel(\"original\")\n",
    "    else:\n",
    "        ax.get_yaxis().set_visible(False)\n",
    "\n",
    "    # display reconstruction\n",
    "    ax = plt.subplot(4, n, i + 1 + n)\n",
    "    plt.imshow(prediction, cmap=\"Blues\")\n",
    "    ax.get_xaxis().set_visible(False)\n",
    "    if i == 0:\n",
    "        ax.set_ylabel(\"generated\")\n",
    "    else:\n",
    "        ax.get_yaxis().set_visible(False)\n",
    "\n",
    "        # display reconstruction\n",
    "    diff = np.abs(test - prediction)\n",
    "    ax = plt.subplot(4, n, i + 1 + 2 * n)\n",
    "    plt.imshow(diff, cmap=\"Blues\")\n",
    "    ax.get_xaxis().set_visible(False)\n",
    "    if i == 0:\n",
    "        ax.set_ylabel(\"difference\")\n",
    "    else:\n",
    "        ax.get_yaxis().set_visible(False)\n",
    "\n",
    "    # display reconstruction\n",
    "    ax = plt.subplot(4, n, i + 1 + 3 * n)\n",
    "    plt.imshow(out, cmap=\"Blues\")\n",
    "    ax.get_xaxis().set_visible(False)\n",
    "    if i == 0:\n",
    "        ax.set_ylabel(\"outliers\")\n",
    "    else:\n",
    "        ax.get_yaxis().set_visible(False)\n",
    "\n",
    "plt.tight_layout()\n",
    "plt.show()\n"
   ]
  },
  {
   "cell_type": "code",
   "execution_count": 8,
   "metadata": {
    "scrolled": true
   },
   "outputs": [
    {
     "name": "stdout",
     "output_type": "stream",
     "text": [
      "(10, 100, 100)\n",
      "(10, 100, 100)\n"
     ]
    },
    {
     "data": {
      "image/png": "[encoded data removed]",
      "text/plain": [
       "<Figure size 432x288 with 4 Axes>"
      ]
     },
     "metadata": {
      "needs_background": "light"
     },
     "output_type": "display_data"
    }
   ],
   "source": [
    "print(predictions_fed.shape)\n",
    "print(data[:, T_pretraining:].shape)\n",
    "\n",
    "diff_fed = np.abs(data[:, T_pretraining:] - predictions_fed)\n",
    "dist_fed = np.linalg.norm(diff_fed, axis=-1)\n",
    "diff_sep = np.abs(data[:, T_pretraining:] - predictions_sep)\n",
    "dist_sep = np.linalg.norm(diff_sep, axis=-1)\n",
    "dist_fed = dist_fed/np.max(dist_fed)\n",
    "dist_sep = dist_sep/np.max(dist_sep)\n",
    "labels = is_outlier[:, T_pretraining:].any(axis=-1)\n",
    "\n",
    "\n",
    "plt.subplot(221)\n",
    "\n",
    "# ugly but working\n",
    "io = []\n",
    "nio = []\n",
    "for i, row in enumerate(dist_fed):\n",
    "    for j, val in enumerate(row):\n",
    "        if labels[i][j]:\n",
    "            nio.append([j, val])\n",
    "        else:\n",
    "            io.append([j, val])\n",
    "io = pd.DataFrame(io)\n",
    "nio = pd.DataFrame(nio)\n",
    "\n",
    "sns.lineplot(io[0], io[1], label=\"ok\", ci=\"sd\", err_style=\"band\")\n",
    "sns.scatterplot(nio[0], nio[1], label=\"outlier\", color=\"orange\", alpha=0.7)\n",
    "plt.xlabel(\"t\")\n",
    "plt.ylabel(\"outlier score\")\n",
    "plt.legend()\n",
    "\n",
    "plt.legend()\n",
    "\n",
    "plt.subplot(223)\n",
    "\n",
    "fpr, tpr, thresholds = roc_curve(labels.flatten(), dist_fed.flatten())\n",
    "roc_auc = auc(fpr, tpr)\n",
    "\n",
    "plt.plot(fpr, tpr, label='AUC = %0.2f)' % roc_auc)\n",
    "plt.xlim((0,1))\n",
    "plt.ylim((0,1))\n",
    "plt.plot([0, 1], [0, 1], color='lightgray', linestyle='--')\n",
    "plt.xlabel('False Positive Rate')\n",
    "plt.ylabel('True Positive Rate')\n",
    "# plt.title('ROC Autoencoder 100-80-100 ReLU/Sigmoid synth\\_multidim\\_100\\_000')\n",
    "plt.legend(loc=\"lower right\")\n",
    "\n",
    "plt.subplot(222)\n",
    "\n",
    "# ugly but working\n",
    "io = []\n",
    "nio = []\n",
    "for i, row in enumerate(dist_sep):\n",
    "    for j, val in enumerate(row):\n",
    "        if labels[i][j]:\n",
    "            nio.append([j, val])\n",
    "        else:\n",
    "            io.append([j, val])\n",
    "io = pd.DataFrame(io)\n",
    "nio = pd.DataFrame(nio)\n",
    "\n",
    "sns.lineplot(io[0], io[1], label=\"ok\", ci=\"sd\", err_style=\"band\")\n",
    "sns.scatterplot(nio[0], nio[1], label=\"outlier\", color=\"orange\", alpha=0.7)\n",
    "plt.xlabel(\"t\")\n",
    "plt.ylabel(\"outlier score\")\n",
    "plt.legend()\n",
    "\n",
    "plt.legend()\n",
    "\n",
    "plt.subplot(224)\n",
    "\n",
    "fpr, tpr, thresholds = roc_curve(labels.flatten(), dist_sep.flatten())\n",
    "roc_auc = auc(fpr, tpr)\n",
    "\n",
    "plt.plot(fpr, tpr, label='AUC = %0.2f)' % roc_auc)\n",
    "plt.xlim((0,1))\n",
    "plt.ylim((0,1))\n",
    "plt.plot([0, 1], [0, 1], color='lightgray', linestyle='--')\n",
    "plt.xlabel('False Positive Rate')\n",
    "plt.ylabel('True Positive Rate')\n",
    "# plt.title('ROC Autoencoder 100-80-100 ReLU/Sigmoid synth\\_multidim\\_100\\_000')\n",
    "plt.legend(loc=\"lower right\")\n",
    "\n",
    "plt.tight_layout()\n",
    "plt.savefig(os.path.join(os.getcwd(), \"figures\", \"results\", \"fedstream_{}.pdf\".format(outlier_type)))"
   ]
  },
  {
   "cell_type": "code",
   "execution_count": null,
   "metadata": {},
   "outputs": [],
   "source": []
  }
 ],
 "metadata": {
  "kernelspec": {
   "display_name": "Python 3",
   "language": "python",
   "name": "python3"
  },
  "language_info": {
   "codemirror_mode": {
    "name": "ipython",
    "version": 3
   },
   "file_extension": ".py",
   "mimetype": "text/x-python",
   "name": "python",
   "nbconvert_exporter": "python",
   "pygments_lexer": "ipython3",
   "version": "3.7.6"
  }
 },
 "nbformat": 4,
 "nbformat_minor": 4
}
