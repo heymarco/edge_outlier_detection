{
 "cells": [
  {
   "cell_type": "code",
   "execution_count": 1,
   "metadata": {},
   "outputs": [],
   "source": [
    "import numpy as np\n",
    "import math\n",
    "import os\n",
    "\n",
    "import matplotlib as mpl\n",
    "from matplotlib import gridspec\n",
    "import matplotlib.pyplot as plt\n",
    "import seaborn as sns\n",
    "mpl.rcParams['text.usetex'] = True\n",
    "mpl.rcParams['text.latex.preamble'] = r'\\usepackage{libertine}'\n",
    "mpl.rc('font', family='serif')"
   ]
  },
  {
   "cell_type": "code",
   "execution_count": 2,
   "metadata": {},
   "outputs": [],
   "source": [
    "num_data = 50\n",
    "dims = 4\n",
    "outlier_subspace_size = 2\n",
    "frac_abnormal_devices = 0.1"
   ]
  },
  {
   "cell_type": "code",
   "execution_count": 3,
   "metadata": {},
   "outputs": [],
   "source": [
    "def create_data(num_devices, n, dims):\n",
    "    data = np.random.normal(loc=0.5, scale=0.3*0.5/2, size=(num_devices, n, dims))\n",
    "    return data\n",
    "\n",
    "\n",
    "def circle(shape, snr=0.0, margin=0.0):\n",
    "    random_data = np.random.uniform(low=-1, high=1, size=shape)\n",
    "    circle = random_data/np.linalg.norm(random_data, keepdims=True, axis=-1)\n",
    "    noise = np.random.uniform(low=-1, high=1, size=shape)*snr\n",
    "    circle = circle*(1-2*(snr+margin))\n",
    "    circle = circle*0.5\n",
    "    circle = circle+0.5\n",
    "    circle = circle+noise\n",
    "    return circle\n",
    "\n",
    "\n",
    "def add_hidden_outliers(data, indices, subspace_size, frac_outlying=0.05):\n",
    "    outlying = np.random.choice(range(len(data[0])), int(len(data[0])*frac_outlying))\n",
    "    c = circle(shape=(len(data), len(data[0]), subspace_size))\n",
    "    data[:, :, :subspace_size] = c\n",
    "    outliers = np.empty(shape=data.shape, dtype=bool)\n",
    "    outliers.fill(False)\n",
    "    for i in indices:\n",
    "        num_outlying_data = int(len(data[0]) * frac_outlying)\n",
    "        outlier_indices = np.random.choice(range(len(data[i])), num_outlying_data, replace=False)\n",
    "        data[i][outlier_indices, :subspace_size] = np.random.uniform(low=0.45, high=0.55, size=subspace_size)\n",
    "        outliers[i][outlier_indices, :subspace_size] = True\n",
    "    return data, outliers"
   ]
  },
  {
   "cell_type": "code",
   "execution_count": 9,
   "metadata": {},
   "outputs": [],
   "source": [
    "data = create_data(4, num_data, dims)\n",
    "data, outliers = add_hidden_outliers(data, np.array([0]), outlier_subspace_size)"
   ]
  },
  {
   "cell_type": "code",
   "execution_count": 12,
   "metadata": {},
   "outputs": [
    {
     "data": {
      "image/png": "[encoded data removed]",
      "text/plain": [
       "<Figure size 432x288 with 6 Axes>"
      ]
     },
     "metadata": {
      "needs_background": "light"
     },
     "output_type": "display_data"
    }
   ],
   "source": [
    "i = 0\n",
    "ax4=plt.subplot(234)\n",
    "x = 1\n",
    "y = 2\n",
    "plt.scatter(data[i][np.invert(outliers[i].any(-1))].T[x], data[i][np.invert(outliers[i].any(-1))].T[y], alpha=0.5, label=\"ok\")\n",
    "plt.scatter(data[i][outliers[i].any(-1)].T[x], data[i][outliers[i].any(-1)].T[y], alpha=0.5, label=\"outlier\")\n",
    "plt.xlabel(r\"$x^{}$\".format(x+1))\n",
    "plt.xlabel(r\"$x^{}$\".format(y+1))\n",
    "\n",
    "ax5=plt.subplot(2, 3, 5)\n",
    "x = 1\n",
    "y = 3\n",
    "plt.scatter(data[i][np.invert(outliers[i].any(-1))].T[x], data[i][np.invert(outliers[i].any(-1))].T[y], alpha=0.5, label=\"ok\")\n",
    "plt.scatter(data[i][outliers[i].any(-1)].T[x], data[i][outliers[i].any(-1)].T[y], alpha=0.5, label=\"outlier\")\n",
    "plt.xlabel(r\"$x^{}$\".format(x+1))\n",
    "plt.xlabel(r\"$x^{}$\".format(y+1))\n",
    "\n",
    "ax6=plt.subplot(2, 3, 6)\n",
    "x = 2\n",
    "y = 3\n",
    "plt.scatter(data[i][np.invert(outliers[i].any(-1))].T[x], data[i][np.invert(outliers[i].any(-1))].T[y], alpha=0.5, label=\"ok\")\n",
    "plt.scatter(data[i][outliers[i].any(-1)].T[x], data[i][outliers[i].any(-1)].T[y], alpha=0.5, label=\"outlier\")\n",
    "plt.xlabel(r\"$x^{}$\".format(x+1))\n",
    "plt.xlabel(r\"$x^{}$\".format(y+1))\n",
    "\n",
    "ax1=plt.subplot(231)\n",
    "x = 0\n",
    "y = 1\n",
    "plt.scatter(data[i][np.invert(outliers[i].any(-1))].T[x], data[i][np.invert(outliers[i].any(-1))].T[y], alpha=0.5, label=\"ok\")\n",
    "plt.scatter(data[i][outliers[i].any(-1)].T[x], data[i][outliers[i].any(-1)].T[y], alpha=0.5, label=\"outlier\")\n",
    "plt.xlabel(r\"$x^{}$\".format(x+1))\n",
    "plt.xlabel(r\"$x^{}$\".format(y+1))\n",
    "\n",
    "ax2=plt.subplot(232)\n",
    "x = 0\n",
    "y = 2\n",
    "plt.scatter(data[i][np.invert(outliers[i].any(-1))].T[x], data[i][np.invert(outliers[i].any(-1))].T[y], alpha=0.5, label=\"ok\")\n",
    "plt.scatter(data[i][outliers[i].any(-1)].T[x], data[i][outliers[i].any(-1)].T[y], alpha=0.5, label=\"outlier\")\n",
    "plt.xlabel(r\"$x^{}$\".format(x+1))\n",
    "plt.xlabel(r\"$x^{}$\".format(y+1))\n",
    "\n",
    "ax3=plt.subplot(233)\n",
    "x = 0\n",
    "y = 3\n",
    "plt.scatter(data[i][np.invert(outliers[i].any(-1))].T[x], data[i][np.invert(outliers[i].any(-1))].T[y], alpha=0.5, label=\"ok\")\n",
    "plt.scatter(data[i][outliers[i].any(-1)].T[x], data[i][outliers[i].any(-1)].T[y], alpha=0.5, label=\"outlier\")\n",
    "plt.xlabel(r\"$x^{}$\".format(x+1))\n",
    "plt.xlabel(r\"$x^{}$\".format(y+1))\n",
    "plt.tight_layout()\n",
    "plt.savefig(os.path.join(os.getcwd(), \"figures\", \"hidden_outliers.pdf\"))\n",
    "plt.show()"
   ]
  },
  {
   "cell_type": "code",
   "execution_count": null,
   "metadata": {},
   "outputs": [],
   "source": []
  },
  {
   "cell_type": "code",
   "execution_count": null,
   "metadata": {},
   "outputs": [],
   "source": []
  }
 ],
 "metadata": {
  "kernelspec": {
   "display_name": "Python 3",
   "language": "python",
   "name": "python3"
  },
  "language_info": {
   "codemirror_mode": {
    "name": "ipython",
    "version": 3
   },
   "file_extension": ".py",
   "mimetype": "text/x-python",
   "name": "python",
   "nbconvert_exporter": "python",
   "pygments_lexer": "ipython3",
   "version": "3.7.6"
  }
 },
 "nbformat": 4,
 "nbformat_minor": 4
}
