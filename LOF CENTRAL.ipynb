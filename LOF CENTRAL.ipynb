{
 "cells": [
  {
   "cell_type": "code",
   "execution_count": 1,
   "metadata": {},
   "outputs": [],
   "source": [
    "import os\n",
    "import math\n",
    "import numpy as np\n",
    "\n",
    "from sklearn.neighbors import LocalOutlierFactor\n",
    "from sklearn.metrics import roc_curve, auc\n",
    "\n",
    "from src.utils import parse_filename, normalize\n",
    "\n",
    "import tensorflow as tf\n",
    "from tensorflow.keras.layers import Input, Dense, Flatten\n",
    "from tensorflow.keras.models import Model\n",
    "\n",
    "import matplotlib as mpl\n",
    "from matplotlib import gridspec\n",
    "import matplotlib.pyplot as plt\n",
    "mpl.rcParams['text.usetex'] = True\n",
    "mpl.rcParams['text.latex.preamble'] = r'\\usepackage{libertine}'\n",
    "mpl.rc('font', family='serif')"
   ]
  },
  {
   "cell_type": "markdown",
   "metadata": {},
   "source": [
    "## Configuration"
   ]
  },
  {
   "cell_type": "code",
   "execution_count": 2,
   "metadata": {},
   "outputs": [
    {
     "data": {
      "text/plain": [
       "{'num_devices': 100,\n",
       " 'n': 100,\n",
       " 'dims': 100,\n",
       " 'subspace_frac': 0.2,\n",
       " 'frac_outlying_devices': 0.05,\n",
       " 'frac_outlying_data': 0.03,\n",
       " 'gamma': 0.5,\n",
       " 'delta': 0.5}"
      ]
     },
     "execution_count": 2,
     "metadata": {},
     "output_type": "execute_result"
    }
   ],
   "source": [
    "data_name = \"100_100_100_0.2_0.05_0.03_0.5_0.5_d.npy\"\n",
    "out_name = \"100_100_100_0.2_0.05_0.03_0.5_0.5_o.npy\"\n",
    "data = np.load(os.path.join(os.getcwd(), \"data\", \"synth\", data_name))\n",
    "is_outlier = np.load(os.path.join(os.getcwd(), \"data\", \"synth\", out_name))\n",
    "params = parse_filename(data_name)\n",
    "params"
   ]
  },
  {
   "cell_type": "code",
   "execution_count": 3,
   "metadata": {},
   "outputs": [],
   "source": [
    "num_devices = params[\"num_devices\"]\n",
    "dims = params[\"dims\"]\n",
    "num_data = params[\"n\"]\n",
    "subspace_frac = [\"subspace_frac\"]\n",
    "frac_outlying_devices = params[\"frac_outlying_devices\"]\n",
    "frac_outlying_data = params[\"frac_outlying_data\"]\n",
    "\n",
    "T_start = 1\n",
    "T = 9\n",
    "n = int(num_data/(T_start+T))"
   ]
  },
  {
   "cell_type": "code",
   "execution_count": null,
   "metadata": {},
   "outputs": [],
   "source": []
  },
  {
   "cell_type": "markdown",
   "metadata": {},
   "source": [
    "## Model Creation"
   ]
  },
  {
   "cell_type": "code",
   "execution_count": 4,
   "metadata": {},
   "outputs": [],
   "source": [
    "n_neighbors = 10\n",
    "contamination = frac_outlying_devices*frac_outlying_data\n",
    "detector = LocalOutlierFactor(n_neighbors=n_neighbors, contamination=contamination)"
   ]
  },
  {
   "cell_type": "code",
   "execution_count": null,
   "metadata": {},
   "outputs": [],
   "source": []
  },
  {
   "cell_type": "code",
   "execution_count": null,
   "metadata": {},
   "outputs": [],
   "source": []
  },
  {
   "cell_type": "code",
   "execution_count": 13,
   "metadata": {},
   "outputs": [
    {
     "name": "stdout",
     "output_type": "stream",
     "text": [
      "t = 1\n",
      "(1000,)\n",
      "t = 2\n",
      "(1000,)\n",
      "t = 3\n",
      "(1000,)\n",
      "t = 4\n",
      "(1000,)\n",
      "t = 5\n",
      "(1000,)\n",
      "t = 6\n",
      "(1000,)\n",
      "t = 7\n",
      "(1000,)\n",
      "t = 8\n",
      "(1000,)\n",
      "t = 9\n",
      "(1000,)\n"
     ]
    },
    {
     "data": {
      "text/plain": [
       "array([False, False, False, ..., False, False, False])"
      ]
     },
     "execution_count": 13,
     "metadata": {},
     "output_type": "execute_result"
    }
   ],
   "source": [
    "# LOF Training\n",
    "predictions = np.array([])\n",
    "central_data = np.array([])\n",
    "labels = np.array([])\n",
    "for t in range(T_start, T+1):\n",
    "    print(\"t = {}\".format(t))\n",
    "    start = t*n\n",
    "    end = (t+1)*n\n",
    "    # send data to central server\n",
    "    cdata = data[:, start:end]\n",
    "    cdata = np.reshape(cdata, newshape=(cdata.shape[0]*cdata.shape[1], cdata.shape[2]))\n",
    "    cout = is_outlier[:, start:end].any(axis=-1).flatten()\n",
    "    print(cout.shape)\n",
    "    \n",
    "    # train lof on central data with fixed window size\n",
    "    new_predictions = detector.fit_predict(cdata) == -1\n",
    "    predictions = new_predictions if t == 1 else np.concatenate((predictions, new_predictions))\n",
    "    central_data = cdata if not len(central_data) else np.concatenate((central_data, cdata))\n",
    "    labels = cout if not len(labels) else np.concatenate((labels, cout))\n",
    "predictions"
   ]
  },
  {
   "cell_type": "code",
   "execution_count": 17,
   "metadata": {},
   "outputs": [
    {
     "name": "stdout",
     "output_type": "stream",
     "text": [
      "p0 = 0.999, pc = 0.9983333333333333\n"
     ]
    }
   ],
   "source": [
    "p0 = (predictions == labels).sum()/len(labels)\n",
    "pc = np.invert(labels).sum()/len(labels)\n",
    "print(\"p0 = {}, pc = {}\".format(p0, pc))"
   ]
  },
  {
   "cell_type": "code",
   "execution_count": 18,
   "metadata": {},
   "outputs": [
    {
     "data": {
      "text/plain": [
       "0.40000000000001334"
      ]
     },
     "execution_count": 18,
     "metadata": {},
     "output_type": "execute_result"
    }
   ],
   "source": [
    "kappa = (p0-pc)/(1-pc)\n",
    "kappa"
   ]
  },
  {
   "cell_type": "code",
   "execution_count": null,
   "metadata": {},
   "outputs": [],
   "source": []
  },
  {
   "cell_type": "code",
   "execution_count": null,
   "metadata": {},
   "outputs": [],
   "source": []
  }
 ],
 "metadata": {
  "kernelspec": {
   "display_name": "Python 3",
   "language": "python",
   "name": "python3"
  },
  "language_info": {
   "codemirror_mode": {
    "name": "ipython",
    "version": 3
   },
   "file_extension": ".py",
   "mimetype": "text/x-python",
   "name": "python",
   "nbconvert_exporter": "python",
   "pygments_lexer": "ipython3",
   "version": "3.7.6"
  }
 },
 "nbformat": 4,
 "nbformat_minor": 4
}
