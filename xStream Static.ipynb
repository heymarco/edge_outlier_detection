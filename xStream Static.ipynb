{
 "cells": [
  {
   "cell_type": "code",
   "execution_count": 1,
   "metadata": {},
   "outputs": [],
   "source": [
    "import os\n",
    "from tqdm import tqdm\n",
    "import math\n",
    "import numpy as np\n",
    "import pandas as pd\n",
    "\n",
    "from sklearn.metrics import roc_curve, auc, average_precision_score, roc_auc_score\n",
    "from scipy import stats\n",
    "\n",
    "from src.utils import parse_filename, normalize, sliding_window\n",
    "\n",
    "import tensorflow as tf\n",
    "from tensorflow.keras.layers import Input, Dense, Flatten\n",
    "from tensorflow.keras.models import Model\n",
    "\n",
    "from xstream.python.Chains import Chains\n",
    "\n",
    "import matplotlib as mpl\n",
    "from matplotlib import gridspec\n",
    "import matplotlib.pyplot as plt\n",
    "import seaborn as sns\n",
    "mpl.rcParams['text.usetex'] = True\n",
    "mpl.rcParams['text.latex.preamble'] = r'\\usepackage{libertine}'\n",
    "mpl.rc('font', family='serif')"
   ]
  },
  {
   "cell_type": "code",
   "execution_count": 2,
   "metadata": {},
   "outputs": [
    {
     "data": {
      "text/plain": [
       "{'num_devices': 10,\n",
       " 'num_data': 150,\n",
       " 'dims': 10,\n",
       " 'subspace_frac': 1.0,\n",
       " 'frac_outlying_devices': 1.0,\n",
       " 'frac_outlying_data': 0.02,\n",
       " 'gamma': 0.6,\n",
       " 'delta': 0.2,\n",
       " 'outlier_type': 'local'}"
      ]
     },
     "execution_count": 2,
     "metadata": {},
     "output_type": "execute_result"
    }
   ],
   "source": [
    "data_name = \"10_150_10_1.0_1_0.02_0.6_0.2_local_d.npy\"\n",
    "out_name = \"10_150_10_1.0_1_0.02_0.6_0.2_local_o.npy\"\n",
    "data = np.load(os.path.join(os.getcwd(), \"data\", \"synth\", data_name))\n",
    "is_outlier = np.load(os.path.join(os.getcwd(), \"data\", \"synth\", out_name))\n",
    "params = parse_filename(data_name)\n",
    "params"
   ]
  },
  {
   "cell_type": "code",
   "execution_count": 3,
   "metadata": {},
   "outputs": [],
   "source": [
    "num_devices = params[\"num_devices\"]\n",
    "dims = params[\"dims\"]\n",
    "subspace_frac = [\"subspace_frac\"]\n",
    "frac_outlying_devices = params[\"frac_outlying_devices\"]\n",
    "frac_outlying_data = params[\"frac_outlying_data\"]\n",
    "compression_factor = 0.2\n",
    "num_data = data.shape[1]\n",
    "outlier_type = params[\"outlier_type\"]"
   ]
  },
  {
   "cell_type": "code",
   "execution_count": 4,
   "metadata": {},
   "outputs": [],
   "source": [
    "k = 50\n",
    "nchains = 50\n",
    "depth = 10"
   ]
  },
  {
   "cell_type": "code",
   "execution_count": 5,
   "metadata": {},
   "outputs": [
    {
     "name": "stderr",
     "output_type": "stream",
     "text": [
      "Fitting...: 100%|██████████| 50/50 [00:07<00:00,  6.34it/s]\n"
     ]
    }
   ],
   "source": [
    "oldshape = data.shape\n",
    "data = np.reshape(data, newshape=(data.shape[0]*data.shape[1], data.shape[2]))\n",
    "cf = Chains(k=k, nchains=nchains, depth=depth)\n",
    "cf.fit(data)"
   ]
  },
  {
   "cell_type": "code",
   "execution_count": 6,
   "metadata": {},
   "outputs": [
    {
     "name": "stderr",
     "output_type": "stream",
     "text": [
      "Scoring...: 100%|██████████| 50/50 [00:06<00:00,  7.56it/s]\n"
     ]
    }
   ],
   "source": [
    "predictions = -cf.score(data)"
   ]
  },
  {
   "cell_type": "code",
   "execution_count": 7,
   "metadata": {},
   "outputs": [
    {
     "name": "stdout",
     "output_type": "stream",
     "text": [
      "(1500,)\n"
     ]
    }
   ],
   "source": [
    "print(predictions.shape)\n",
    "predictions = np.reshape(predictions, newshape=(oldshape[0], oldshape[1]))"
   ]
  },
  {
   "cell_type": "code",
   "execution_count": null,
   "metadata": {},
   "outputs": [],
   "source": []
  },
  {
   "cell_type": "code",
   "execution_count": 8,
   "metadata": {},
   "outputs": [
    {
     "data": {
      "text/plain": [
       "(10, 150)"
      ]
     },
     "execution_count": 8,
     "metadata": {},
     "output_type": "execute_result"
    }
   ],
   "source": [
    "predictions.shape"
   ]
  },
  {
   "cell_type": "code",
   "execution_count": null,
   "metadata": {},
   "outputs": [],
   "source": []
  },
  {
   "cell_type": "code",
   "execution_count": 11,
   "metadata": {},
   "outputs": [
    {
     "name": "stderr",
     "output_type": "stream",
     "text": [
      "No handles with labels found to put in legend.\n"
     ]
    },
    {
     "name": "stdout",
     "output_type": "stream",
     "text": [
      "[[False False False ... False False False]\n",
      " [False False False ... False False False]\n",
      " [False False False ... False False False]\n",
      " ...\n",
      " [False False False ... False False False]\n",
      " [False False False ... False False False]\n",
      " [ True False False ... False False False]]\n"
     ]
    },
    {
     "data": {
      "image/png": "[encoded data removed]",
      "text/plain": [
       "<Figure size 432x288 with 2 Axes>"
      ]
     },
     "metadata": {
      "needs_background": "light"
     },
     "output_type": "display_data"
    }
   ],
   "source": [
    "dist = predictions\n",
    "labels = is_outlier.any(axis=-1)\n",
    "\n",
    "print(labels)\n",
    "\n",
    "plt.subplot(121)\n",
    "\n",
    "# ugly but working\n",
    "io = []\n",
    "nio = []\n",
    "for i, row in enumerate(dist):\n",
    "    for j, val in enumerate(row):\n",
    "        if labels[i][j]:\n",
    "            nio.append([j, val])\n",
    "        else:\n",
    "            io.append([j, val])\n",
    "io = pd.DataFrame(io)\n",
    "nio = pd.DataFrame(nio)\n",
    "\n",
    "# sns.scatterplot(io[0], io[1], label=\"ok\")\n",
    "sns.distplot(io[1], hist=False, rug=True)\n",
    "sns.distplot(nio[1], hist=False, rug=True)\n",
    "# sns.scatterplot(nio[0], nio[1], label=\"outlier\", color=\"orange\", alpha=0.7)\n",
    "plt.xlabel(\"Outlier Score\")\n",
    "plt.ylabel(\"KDE\")\n",
    "\n",
    "plt.legend()\n",
    "\n",
    "plt.subplot(122)\n",
    "\n",
    "fpr, tpr, thresholds = roc_curve(labels.flatten(), dist.flatten())\n",
    "roc_auc = auc(fpr, tpr)\n",
    "\n",
    "plt.plot(fpr, tpr, label='AUC = %0.2f)' % roc_auc)\n",
    "plt.xlim((0,1))\n",
    "plt.ylim((0,1))\n",
    "plt.plot([0, 1], [0, 1], color='lightgray', linestyle='--')\n",
    "plt.xlabel('False Positive Rate')\n",
    "plt.ylabel('True Positive Rate')\n",
    "# plt.title('ROC Autoencoder 100-80-100 ReLU/Sigmoid synth\\_multidim\\_100\\_000')\n",
    "plt.legend(loc=\"lower right\")\n",
    "\n",
    "plt.tight_layout()\n",
    "plt.savefig(os.path.join(os.getcwd(), \"figures\", \"results\", \"fedstream_{}.pdf\".format(outlier_type)))"
   ]
  },
  {
   "cell_type": "code",
   "execution_count": null,
   "metadata": {},
   "outputs": [],
   "source": []
  }
 ],
 "metadata": {
  "kernelspec": {
   "display_name": "Python 3",
   "language": "python",
   "name": "python3"
  },
  "language_info": {
   "codemirror_mode": {
    "name": "ipython",
    "version": 3
   },
   "file_extension": ".py",
   "mimetype": "text/x-python",
   "name": "python",
   "nbconvert_exporter": "python",
   "pygments_lexer": "ipython3",
   "version": "3.7.6"
  }
 },
 "nbformat": 4,
 "nbformat_minor": 4
}
